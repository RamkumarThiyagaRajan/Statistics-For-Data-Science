{
 "cells": [
  {
   "cell_type": "markdown",
   "metadata": {},
   "source": [
    "<table align=\"center\" width=100%>\n",
    "    <tr>\n",
    "        <td width=\"15%\">\n",
    "            <img src=\"homework.png\">\n",
    "        </td>\n",
    "        <td>\n",
    "            <div align=\"center\">\n",
    "                <font color=\"#21618C\" size=8px>\n",
    "                    <b> Take-Home <br>(Day 4)\n",
    "                    </b>\n",
    "                </font>\n",
    "            </div>\n",
    "        </td>\n",
    "    </tr>\n",
    "</table>"
   ]
  },
  {
   "cell_type": "markdown",
   "metadata": {},
   "source": [
    "**Import the required libraries**"
   ]
  },
  {
   "cell_type": "code",
   "execution_count": 1,
   "metadata": {},
   "outputs": [],
   "source": [
    "# type your code here\n",
    "import numpy as np\n",
    "import pandas as pd\n",
    "import seaborn as sns\n",
    "import scipy.stats as stats"
   ]
  },
  {
   "cell_type": "markdown",
   "metadata": {},
   "source": [
    "### Let's begin with some hands-on practice exercises"
   ]
  },
  {
   "cell_type": "markdown",
   "metadata": {
    "collapsed": true
   },
   "source": [
    "<table align=\"left\">\n",
    "    <tr>\n",
    "        <td width=\"6%\">\n",
    "            <img src=\"question_icon.png\">\n",
    "        </td>\n",
    "        <td>\n",
    "            <div align=\"left\", style=\"font-size:120%\">\n",
    "                <font color=\"#21618C\">\n",
    "                    <b>1. The sales manager at an electronics company wants to study if online sales of their products in 2019 follow the same distribution as the online sales of products in 2015. He collected the sample of 300 products sold in 2019. Help the manager to test his claim using p-value technique at a 99% confidence level.</b>\n",
    "                </font>\n",
    "            </div>\n",
    "        </td>\n",
    "    </tr>\n",
    "</table>"
   ]
  },
  {
   "cell_type": "markdown",
   "metadata": {},
   "source": [
    "<img src='chi_2.png'>"
   ]
  },
  {
   "cell_type": "code",
   "execution_count": 2,
   "metadata": {},
   "outputs": [
    {
     "name": "stdout",
     "output_type": "stream",
     "text": [
      "Observed_Count: [38 20 42]\n",
      "Sample_Size: 300\n",
      "Expected_Count: [ 85  90 125]\n"
     ]
    },
    {
     "data": {
      "text/plain": [
       "Power_divergenceResult(statistic=135.54467973856208, pvalue=3.688474362056332e-30)"
      ]
     },
     "execution_count": 2,
     "metadata": {},
     "output_type": "execute_result"
    }
   ],
   "source": [
    "# type your code here\n",
    "#Step1:-Hypothesis Formation:-\n",
    "#H0:Observed=Expected\n",
    "#Ha:Observed!=Expected\n",
    "\n",
    "#step2:-\n",
    "#1.Data is Normal and Right Skewed\n",
    "#2.More Than 2Sample=>Chi-square Test\n",
    "\n",
    "#Step3:-Chi Square Test Statistics:-\n",
    "#observed Count\n",
    "obs_count=np.array([38,20,42])#%Sale in 2015\n",
    "print('Observed_Count:',obs_count)\n",
    "\n",
    "n=300\n",
    "print('Sample_Size:',n)\n",
    "\n",
    "#Expected Count\n",
    "exp_count=np.array([85,90,125])#frequency of items sold in 2019\n",
    "print('Expected_Count:',exp_count)\n",
    "\n",
    "stats.chisquare(f_exp=exp_count,f_obs=obs_count)"
   ]
  },
  {
   "cell_type": "code",
   "execution_count": null,
   "metadata": {},
   "outputs": [],
   "source": [
    "#Step 4:-Finding P_Value\n",
    "#pvalue=3.688474362056332e-30\n",
    "#significance Level=0.01\n",
    "#pval<sign lvl=>H0 is Rejected,Ha is Selected which means Observed!=Expected\n",
    "#The Observed Count is Not Same as Expected Count "
   ]
  },
  {
   "cell_type": "markdown",
   "metadata": {},
   "source": [
    "###### INFERENCE:-\n",
    "    The Observed Count is Not Same as Expected Count,hence Sales Manager Claim of online sales of their products in 2019 do not follow the same distribution as the online sales of products in 2015"
   ]
  },
  {
   "cell_type": "markdown",
   "metadata": {
    "collapsed": true
   },
   "source": [
    "<table align=\"left\">\n",
    "    <tr>\n",
    "        <td width=\"6%\">\n",
    "            <img src=\"question_icon.png\">\n",
    "        </td>\n",
    "        <td>\n",
    "            <div align=\"left\", style=\"font-size:120%\">\n",
    "                <font color=\"#21618C\">\n",
    "                    <b>2. Use hypothesis testing to check if the type of car is dependent on the type of car's transmission. </b>\n",
    "                </font>\n",
    "            </div>\n",
    "        </td>\n",
    "    </tr>\n",
    "</table>"
   ]
  },
  {
   "cell_type": "markdown",
   "metadata": {},
   "source": [
    "<img src='chi_ind.png'>"
   ]
  },
  {
   "cell_type": "code",
   "execution_count": 1,
   "metadata": {},
   "outputs": [],
   "source": [
    "# type your code here\n",
    "#Step1:-Hypothesis Formation:-\n",
    "#H0:Type of Car and Car Transmission are independent(No Relation)\n",
    "#Ha:Type of Car and Car Transmission are Dependent(Relation,not independent)\n",
    "\n",
    "#Step2:\n",
    "#1.Data is not Normal=>Right Skewed Data\n",
    "#2.2 sample and both are categorical so we go with Chi square Test statistics Test for Independence"
   ]
  },
  {
   "cell_type": "code",
   "execution_count": 7,
   "metadata": {},
   "outputs": [
    {
     "data": {
      "text/html": [
       "<div>\n",
       "<style scoped>\n",
       "    .dataframe tbody tr th:only-of-type {\n",
       "        vertical-align: middle;\n",
       "    }\n",
       "\n",
       "    .dataframe tbody tr th {\n",
       "        vertical-align: top;\n",
       "    }\n",
       "\n",
       "    .dataframe thead th {\n",
       "        text-align: right;\n",
       "    }\n",
       "</style>\n",
       "<table border=\"1\" class=\"dataframe\">\n",
       "  <thead>\n",
       "    <tr style=\"text-align: right;\">\n",
       "      <th></th>\n",
       "      <th>Low_Maintenance</th>\n",
       "      <th>Medium_Maintenance</th>\n",
       "      <th>High_Maintenance</th>\n",
       "    </tr>\n",
       "  </thead>\n",
       "  <tbody>\n",
       "    <tr>\n",
       "      <td>0</td>\n",
       "      <td>104</td>\n",
       "      <td>85</td>\n",
       "      <td>78</td>\n",
       "    </tr>\n",
       "    <tr>\n",
       "      <td>1</td>\n",
       "      <td>35</td>\n",
       "      <td>61</td>\n",
       "      <td>72</td>\n",
       "    </tr>\n",
       "  </tbody>\n",
       "</table>\n",
       "</div>"
      ],
      "text/plain": [
       "   Low_Maintenance  Medium_Maintenance  High_Maintenance\n",
       "0              104                  85                78\n",
       "1               35                  61                72"
      ]
     },
     "execution_count": 7,
     "metadata": {},
     "output_type": "execute_result"
    }
   ],
   "source": [
    "obs=pd.DataFrame({'Low_Maintenance':[104,35],'Medium_Maintenance':[85,61],'High_Maintenance':[78,72]})\n",
    "obs"
   ]
  },
  {
   "cell_type": "code",
   "execution_count": 8,
   "metadata": {},
   "outputs": [
    {
     "data": {
      "text/plain": [
       "(16.774829953535356,\n",
       " 0.00022771516717561853,\n",
       " 2,\n",
       " array([[85.31724138, 89.6137931 , 92.06896552],\n",
       "        [53.68275862, 56.3862069 , 57.93103448]]))"
      ]
     },
     "execution_count": 8,
     "metadata": {},
     "output_type": "execute_result"
    }
   ],
   "source": [
    "#Chi_Square_Test_Statistics\n",
    "stats.chi2_contingency(obs)"
   ]
  },
  {
   "cell_type": "code",
   "execution_count": 9,
   "metadata": {},
   "outputs": [
    {
     "name": "stdout",
     "output_type": "stream",
     "text": [
      "Chi_Square_Test Statistics: 16.774829953535356\n",
      "PValue: 0.00022771516717561853\n",
      "Degree_Of_Freedom: 2\n",
      "Expected_Count: [[85.31724138 89.6137931  92.06896552]\n",
      " [53.68275862 56.3862069  57.93103448]]\n"
     ]
    }
   ],
   "source": [
    "chisquare_test_stats,pval,degree_of_freedom,Expected=stats.chi2_contingency(obs)\n",
    "print('Chi_Square_Test Statistics:',chisquare_test_stats)\n",
    "print('PValue:',pval)\n",
    "print('Degree_Of_Freedom:',degree_of_freedom)\n",
    "print('Expected_Count:',Expected)"
   ]
  },
  {
   "cell_type": "code",
   "execution_count": null,
   "metadata": {},
   "outputs": [],
   "source": [
    "#Step4:-P_Value:-\n",
    "#pval=0.00022\n",
    "#sign lvl=0.05#industry standard Confidence Level=95%\n",
    "#pval<sign lvl H0 is Rejected,Ha is Selected which means\n",
    "#Type of Car and Car Transmission are Dependent(Relation,not independent)"
   ]
  },
  {
   "cell_type": "markdown",
   "metadata": {},
   "source": [
    "###### INFERENCE:-\n",
    "    Type of car is dependent on car's transmission that is both have Relation"
   ]
  },
  {
   "cell_type": "markdown",
   "metadata": {
    "collapsed": true
   },
   "source": [
    "<table align=\"left\">\n",
    "    <tr>\n",
    "        <td width=\"6%\">\n",
    "            <img src=\"question_icon.png\">\n",
    "        </td>\n",
    "        <td>\n",
    "            <div align=\"left\", style=\"font-size:120%\">\n",
    "                <font color=\"#21618C\">\n",
    "                    <b>3. A company produces leather belts on three different production lines. The number of defective belts produced by each line is recorded. Test if all the production lines produce on an average equal number of defective belts. Use the p-value technique to test at 5% level of significance.  </b>\n",
    "                </font>\n",
    "            </div>\n",
    "        </td>\n",
    "    </tr>\n",
    "</table>"
   ]
  },
  {
   "cell_type": "markdown",
   "metadata": {},
   "source": [
    "Use the data given in the excel file `defective_prod.xlsx`"
   ]
  },
  {
   "cell_type": "code",
   "execution_count": 10,
   "metadata": {},
   "outputs": [
    {
     "data": {
      "text/html": [
       "<div>\n",
       "<style scoped>\n",
       "    .dataframe tbody tr th:only-of-type {\n",
       "        vertical-align: middle;\n",
       "    }\n",
       "\n",
       "    .dataframe tbody tr th {\n",
       "        vertical-align: top;\n",
       "    }\n",
       "\n",
       "    .dataframe thead th {\n",
       "        text-align: right;\n",
       "    }\n",
       "</style>\n",
       "<table border=\"1\" class=\"dataframe\">\n",
       "  <thead>\n",
       "    <tr style=\"text-align: right;\">\n",
       "      <th></th>\n",
       "      <th>production_line</th>\n",
       "      <th>def_belts</th>\n",
       "    </tr>\n",
       "  </thead>\n",
       "  <tbody>\n",
       "    <tr>\n",
       "      <td>0</td>\n",
       "      <td>A</td>\n",
       "      <td>5</td>\n",
       "    </tr>\n",
       "    <tr>\n",
       "      <td>1</td>\n",
       "      <td>C</td>\n",
       "      <td>2</td>\n",
       "    </tr>\n",
       "    <tr>\n",
       "      <td>2</td>\n",
       "      <td>B</td>\n",
       "      <td>3</td>\n",
       "    </tr>\n",
       "    <tr>\n",
       "      <td>3</td>\n",
       "      <td>A</td>\n",
       "      <td>4</td>\n",
       "    </tr>\n",
       "    <tr>\n",
       "      <td>4</td>\n",
       "      <td>C</td>\n",
       "      <td>1</td>\n",
       "    </tr>\n",
       "  </tbody>\n",
       "</table>\n",
       "</div>"
      ],
      "text/plain": [
       "  production_line  def_belts\n",
       "0               A          5\n",
       "1               C          2\n",
       "2               B          3\n",
       "3               A          4\n",
       "4               C          1"
      ]
     },
     "execution_count": 10,
     "metadata": {},
     "output_type": "execute_result"
    }
   ],
   "source": [
    "# type your code here\n",
    "df=pd.read_excel('defective_prod.xlsx')\n",
    "df.head()"
   ]
  },
  {
   "cell_type": "code",
   "execution_count": null,
   "metadata": {},
   "outputs": [],
   "source": [
    "#Given:-leather belts production_line(Categorical Data) vs def_belts(Continuous/Discrete Data)-we can go for ANOVA TEST STATISTICS\n",
    "#STEP1:-HYPOTHESIS FORMATION\n",
    "#H0:All Means are Equal\n",
    "#Ha:Atleast One Mean are Different"
   ]
  },
  {
   "cell_type": "code",
   "execution_count": 11,
   "metadata": {},
   "outputs": [
    {
     "data": {
      "text/plain": [
       "C    7\n",
       "B    7\n",
       "A    7\n",
       "Name: production_line, dtype: int64"
      ]
     },
     "execution_count": 11,
     "metadata": {},
     "output_type": "execute_result"
    }
   ],
   "source": [
    "df['production_line'].value_counts()"
   ]
  },
  {
   "cell_type": "code",
   "execution_count": 12,
   "metadata": {},
   "outputs": [
    {
     "data": {
      "text/plain": [
       "0     5\n",
       "3     4\n",
       "5     6\n",
       "8     4\n",
       "10    7\n",
       "14    5\n",
       "17    4\n",
       "Name: def_belts, dtype: int64"
      ]
     },
     "execution_count": 12,
     "metadata": {},
     "output_type": "execute_result"
    }
   ],
   "source": [
    "a=df[df['production_line']=='A']['def_belts']\n",
    "a"
   ]
  },
  {
   "cell_type": "code",
   "execution_count": 13,
   "metadata": {},
   "outputs": [
    {
     "data": {
      "text/plain": [
       "2     3\n",
       "6     3\n",
       "9     8\n",
       "11    2\n",
       "13    9\n",
       "16    2\n",
       "20    1\n",
       "Name: def_belts, dtype: int64"
      ]
     },
     "execution_count": 13,
     "metadata": {},
     "output_type": "execute_result"
    }
   ],
   "source": [
    "b=df[df['production_line']=='B']['def_belts']\n",
    "b"
   ]
  },
  {
   "cell_type": "code",
   "execution_count": 14,
   "metadata": {},
   "outputs": [
    {
     "data": {
      "text/plain": [
       "1     2\n",
       "4     1\n",
       "7     2\n",
       "12    1\n",
       "15    3\n",
       "18    6\n",
       "19    8\n",
       "Name: def_belts, dtype: int64"
      ]
     },
     "execution_count": 14,
     "metadata": {},
     "output_type": "execute_result"
    }
   ],
   "source": [
    "c=df[df['production_line']=='C']['def_belts']\n",
    "c"
   ]
  },
  {
   "cell_type": "code",
   "execution_count": null,
   "metadata": {},
   "outputs": [],
   "source": [
    "#Assumptions:-\n",
    "#1.Data is Normal\n",
    "#2.Data Variance are Equal"
   ]
  },
  {
   "cell_type": "code",
   "execution_count": 15,
   "metadata": {},
   "outputs": [
    {
     "name": "stdout",
     "output_type": "stream",
     "text": [
      "(0.8557514548301697, 0.1386316567659378)\n",
      "(0.8036767840385437, 0.04453404247760773)\n",
      "(0.8339223861694336, 0.08714758604764938)\n"
     ]
    }
   ],
   "source": [
    "#TEST OF NORMALITY:-SHAPIRO WILK TEST\n",
    "#H0:Skew=0\n",
    "#Ha:skew!=0\n",
    "print(stats.shapiro(a))\n",
    "print(stats.shapiro(b))\n",
    "print(stats.shapiro(c))"
   ]
  },
  {
   "cell_type": "code",
   "execution_count": null,
   "metadata": {},
   "outputs": [],
   "source": [
    "#All pval are greater than sign lvl=0.05 hence H0:Skew=0 i.e Data is Normal"
   ]
  },
  {
   "cell_type": "code",
   "execution_count": 16,
   "metadata": {},
   "outputs": [
    {
     "data": {
      "text/plain": [
       "LeveneResult(statistic=0.8375, pvalue=0.4489726403784061)"
      ]
     },
     "execution_count": 16,
     "metadata": {},
     "output_type": "execute_result"
    }
   ],
   "source": [
    "#TEST OF VARIANCE:-Equal Variance:Levene Test\n",
    "#Ho:All Data Variance are Equal\n",
    "#Ha:All Data Variance not Equal \n",
    "stats.levene(a,b,c)"
   ]
  },
  {
   "cell_type": "code",
   "execution_count": null,
   "metadata": {},
   "outputs": [],
   "source": [
    "#pval greater than sign lvl hence H0-All Data Variance are Equal\n",
    "#All Variance are Equal"
   ]
  },
  {
   "cell_type": "code",
   "execution_count": 17,
   "metadata": {},
   "outputs": [
    {
     "data": {
      "text/plain": [
       "F_onewayResult(statistic=0.8384615384615386, pvalue=0.44857788134106824)"
      ]
     },
     "execution_count": 17,
     "metadata": {},
     "output_type": "execute_result"
    }
   ],
   "source": [
    "#STEP2:-ANOVA F-Test:-\n",
    "stats.f_oneway(a,b,c)"
   ]
  },
  {
   "cell_type": "code",
   "execution_count": null,
   "metadata": {},
   "outputs": [],
   "source": [
    "#STEP3:-PVALUE:-\n",
    "#pval=0.448\n",
    "#sign lvl=0.05\n",
    "#pval>sign val H0 is Selected,Ha is Rejected which means All Data means are Equal"
   ]
  },
  {
   "cell_type": "markdown",
   "metadata": {},
   "source": [
    "###### INFERENCE:-\n",
    "    Hence the Company's production line produce average equal number of defective belts"
   ]
  },
  {
   "cell_type": "markdown",
   "metadata": {
    "collapsed": true
   },
   "source": [
    "<table align=\"left\">\n",
    "    <tr>\n",
    "        <td width=\"6%\">\n",
    "            <img src=\"question_icon.png\">\n",
    "        </td>\n",
    "        <td>\n",
    "            <div align=\"left\", style=\"font-size:120%\">\n",
    "                <font color=\"#21618C\">\n",
    "                    <b>4. The company wants to decide their advertisement strategies for their new smartwatch. The manager collects the advertising cost (in dollars) for four different mediums. Test if the company is spending on average an equal amount on all the advertising mediums with 99% confidence.If it is different,find which medium is different.</b>\n",
    "                </font>\n",
    "            </div>\n",
    "        </td>\n",
    "    </tr>\n",
    "</table>"
   ]
  },
  {
   "cell_type": "markdown",
   "metadata": {},
   "source": [
    "Use the data given in the excel file `ad_cost.xlsx`"
   ]
  },
  {
   "cell_type": "code",
   "execution_count": 18,
   "metadata": {},
   "outputs": [
    {
     "data": {
      "text/html": [
       "<div>\n",
       "<style scoped>\n",
       "    .dataframe tbody tr th:only-of-type {\n",
       "        vertical-align: middle;\n",
       "    }\n",
       "\n",
       "    .dataframe tbody tr th {\n",
       "        vertical-align: top;\n",
       "    }\n",
       "\n",
       "    .dataframe thead th {\n",
       "        text-align: right;\n",
       "    }\n",
       "</style>\n",
       "<table border=\"1\" class=\"dataframe\">\n",
       "  <thead>\n",
       "    <tr style=\"text-align: right;\">\n",
       "      <th></th>\n",
       "      <th>medium</th>\n",
       "      <th>cost</th>\n",
       "    </tr>\n",
       "  </thead>\n",
       "  <tbody>\n",
       "    <tr>\n",
       "      <td>0</td>\n",
       "      <td>Snapmart</td>\n",
       "      <td>252</td>\n",
       "    </tr>\n",
       "    <tr>\n",
       "      <td>1</td>\n",
       "      <td>Picbook</td>\n",
       "      <td>378</td>\n",
       "    </tr>\n",
       "    <tr>\n",
       "      <td>2</td>\n",
       "      <td>Funsta</td>\n",
       "      <td>312</td>\n",
       "    </tr>\n",
       "    <tr>\n",
       "      <td>3</td>\n",
       "      <td>Klicker</td>\n",
       "      <td>297</td>\n",
       "    </tr>\n",
       "    <tr>\n",
       "      <td>4</td>\n",
       "      <td>Picbook</td>\n",
       "      <td>361</td>\n",
       "    </tr>\n",
       "    <tr>\n",
       "      <td>5</td>\n",
       "      <td>Snapmart</td>\n",
       "      <td>274</td>\n",
       "    </tr>\n",
       "    <tr>\n",
       "      <td>6</td>\n",
       "      <td>Klicker</td>\n",
       "      <td>352</td>\n",
       "    </tr>\n",
       "    <tr>\n",
       "      <td>7</td>\n",
       "      <td>Picbook</td>\n",
       "      <td>343</td>\n",
       "    </tr>\n",
       "    <tr>\n",
       "      <td>8</td>\n",
       "      <td>Funsta</td>\n",
       "      <td>320</td>\n",
       "    </tr>\n",
       "    <tr>\n",
       "      <td>9</td>\n",
       "      <td>Snapmart</td>\n",
       "      <td>242</td>\n",
       "    </tr>\n",
       "    <tr>\n",
       "      <td>10</td>\n",
       "      <td>Klicker</td>\n",
       "      <td>305</td>\n",
       "    </tr>\n",
       "    <tr>\n",
       "      <td>11</td>\n",
       "      <td>Funsta</td>\n",
       "      <td>325</td>\n",
       "    </tr>\n",
       "  </tbody>\n",
       "</table>\n",
       "</div>"
      ],
      "text/plain": [
       "      medium  cost\n",
       "0   Snapmart   252\n",
       "1    Picbook   378\n",
       "2     Funsta   312\n",
       "3    Klicker   297\n",
       "4    Picbook   361\n",
       "5   Snapmart   274\n",
       "6    Klicker   352\n",
       "7    Picbook   343\n",
       "8     Funsta   320\n",
       "9   Snapmart   242\n",
       "10   Klicker   305\n",
       "11    Funsta   325"
      ]
     },
     "execution_count": 18,
     "metadata": {},
     "output_type": "execute_result"
    }
   ],
   "source": [
    "# type your code here\n",
    "df=pd.read_excel('ad_cost.xlsx')\n",
    "df"
   ]
  },
  {
   "cell_type": "code",
   "execution_count": 20,
   "metadata": {},
   "outputs": [
    {
     "data": {
      "text/plain": [
       "Picbook     3\n",
       "Snapmart    3\n",
       "Klicker     3\n",
       "Funsta      3\n",
       "Name: medium, dtype: int64"
      ]
     },
     "execution_count": 20,
     "metadata": {},
     "output_type": "execute_result"
    }
   ],
   "source": [
    "df['medium'].value_counts()"
   ]
  },
  {
   "cell_type": "code",
   "execution_count": 21,
   "metadata": {},
   "outputs": [
    {
     "data": {
      "text/plain": [
       "1    378\n",
       "4    361\n",
       "7    343\n",
       "Name: cost, dtype: int64"
      ]
     },
     "execution_count": 21,
     "metadata": {},
     "output_type": "execute_result"
    }
   ],
   "source": [
    "Picbook_w_cost=df[df['medium']=='Picbook']['cost']\n",
    "Picbook_w_cost"
   ]
  },
  {
   "cell_type": "code",
   "execution_count": 22,
   "metadata": {},
   "outputs": [
    {
     "data": {
      "text/plain": [
       "0    252\n",
       "5    274\n",
       "9    242\n",
       "Name: cost, dtype: int64"
      ]
     },
     "execution_count": 22,
     "metadata": {},
     "output_type": "execute_result"
    }
   ],
   "source": [
    "Snapmart_w_cost=df[df['medium']=='Snapmart']['cost']\n",
    "Snapmart_w_cost"
   ]
  },
  {
   "cell_type": "code",
   "execution_count": 23,
   "metadata": {},
   "outputs": [
    {
     "data": {
      "text/plain": [
       "3     297\n",
       "6     352\n",
       "10    305\n",
       "Name: cost, dtype: int64"
      ]
     },
     "execution_count": 23,
     "metadata": {},
     "output_type": "execute_result"
    }
   ],
   "source": [
    "Klicker_w_cost=df[df['medium']=='Klicker']['cost']\n",
    "Klicker_w_cost"
   ]
  },
  {
   "cell_type": "code",
   "execution_count": 24,
   "metadata": {},
   "outputs": [
    {
     "data": {
      "text/plain": [
       "2     312\n",
       "8     320\n",
       "11    325\n",
       "Name: cost, dtype: int64"
      ]
     },
     "execution_count": 24,
     "metadata": {},
     "output_type": "execute_result"
    }
   ],
   "source": [
    "Funsta_w_cost=df[df['medium']=='Funsta']['cost']\n",
    "Funsta_w_cost"
   ]
  },
  {
   "cell_type": "code",
   "execution_count": null,
   "metadata": {},
   "outputs": [],
   "source": [
    "#Assumptions:-\n",
    "#1.Data is Normal\n",
    "#2.Data Variance are Equal"
   ]
  },
  {
   "cell_type": "code",
   "execution_count": 25,
   "metadata": {},
   "outputs": [
    {
     "name": "stdout",
     "output_type": "stream",
     "text": [
      "(0.9997281432151794, 0.9685051441192627)\n",
      "(0.9552238583564758, 0.5927872061729431)\n",
      "(0.8564552068710327, 0.2578691840171814)\n",
      "(0.9825580716133118, 0.7470288276672363)\n"
     ]
    }
   ],
   "source": [
    "#TEST OF NORMALITY:-SHAPIRO WILK TEST\n",
    "#H0:Skew=0\n",
    "#Ha:skew!=0\n",
    "print(stats.shapiro(Picbook_w_cost))\n",
    "print(stats.shapiro(Snapmart_w_cost))\n",
    "print(stats.shapiro(Klicker_w_cost))\n",
    "print(stats.shapiro(Funsta_w_cost))"
   ]
  },
  {
   "cell_type": "code",
   "execution_count": null,
   "metadata": {},
   "outputs": [],
   "source": [
    "#All pval are greater than sign lvl=0.01 hence H0 is Selected H0:Skew=0 hence Data is Normal"
   ]
  },
  {
   "cell_type": "code",
   "execution_count": 26,
   "metadata": {},
   "outputs": [
    {
     "data": {
      "text/plain": [
       "LeveneResult(statistic=0.4517895809451024, pvalue=0.7230913376085835)"
      ]
     },
     "execution_count": 26,
     "metadata": {},
     "output_type": "execute_result"
    }
   ],
   "source": [
    "#TEST OF VARIANCE:-Equal Variance:Levene Test\n",
    "#Ho:All Data Variance are Equal\n",
    "#Ha:All Data Variance not Equal \n",
    "stats.levene(Picbook_w_cost,Snapmart_w_cost,Klicker_w_cost,Funsta_w_cost)"
   ]
  },
  {
   "cell_type": "code",
   "execution_count": null,
   "metadata": {},
   "outputs": [],
   "source": [
    "#pval greater than sign lvl=0.01 hence H0 is Selected H0-All Data Have Variance are Equal\n",
    "#All Variance are Equal"
   ]
  },
  {
   "cell_type": "code",
   "execution_count": 27,
   "metadata": {},
   "outputs": [
    {
     "data": {
      "text/plain": [
       "F_onewayResult(statistic=14.880471006443026, pvalue=0.001230153853232096)"
      ]
     },
     "execution_count": 27,
     "metadata": {},
     "output_type": "execute_result"
    }
   ],
   "source": [
    "#STEP2:-ANOVA F-Test:-\n",
    "stats.f_oneway(Picbook_w_cost,Snapmart_w_cost,Klicker_w_cost,Funsta_w_cost)"
   ]
  },
  {
   "cell_type": "code",
   "execution_count": null,
   "metadata": {},
   "outputs": [],
   "source": [
    "#STEP3:-PVALUE:-\n",
    "#pval=0.0012\n",
    "#sign lvl=0.01\n",
    "#pval<sign val H0 is Rejected,Ha is Selected which means Atleast one Data mean is not Equal"
   ]
  },
  {
   "cell_type": "code",
   "execution_count": 29,
   "metadata": {},
   "outputs": [
    {
     "data": {
      "image/png": "[encoded data removed]",
      "text/plain": [
       "<Figure size 432x288 with 1 Axes>"
      ]
     },
     "metadata": {
      "needs_background": "light"
     },
     "output_type": "display_data"
    }
   ],
   "source": [
    "import matplotlib.pyplot as plt\n",
    "sns.distplot(Picbook_w_cost)\n",
    "sns.distplot(Snapmart_w_cost)\n",
    "sns.distplot(Klicker_w_cost)\n",
    "sns.distplot(Funsta_w_cost)\n",
    "\n",
    "plt.show()"
   ]
  },
  {
   "cell_type": "markdown",
   "metadata": {},
   "source": [
    "###### INFERENCE:-\n",
    "    The company is not spending average equal amount on all the advertising mediums with 99% confidence level."
   ]
  },
  {
   "cell_type": "code",
   "execution_count": 31,
   "metadata": {},
   "outputs": [],
   "source": [
    "Picbook_w_cost_num=np.array([Picbook_w_cost])\n",
    "Snapmart_w_cost_num=np.array([Snapmart_w_cost])\n",
    "Klicker_w_cost_num=np.array([Klicker_w_cost])\n",
    "Funsta_w_cost_num=np.array([Funsta_w_cost])"
   ]
  },
  {
   "cell_type": "code",
   "execution_count": 32,
   "metadata": {},
   "outputs": [
    {
     "data": {
      "text/plain": [
       "array([[378, 361, 343],\n",
       "       [252, 274, 242],\n",
       "       [297, 352, 305],\n",
       "       [312, 320, 325]], dtype=int64)"
      ]
     },
     "execution_count": 32,
     "metadata": {},
     "output_type": "execute_result"
    }
   ],
   "source": [
    "total = np.concatenate([Picbook_w_cost_num,Snapmart_w_cost_num,Klicker_w_cost,Funsta_w_cost])\n",
    "total"
   ]
  },
  {
   "cell_type": "code",
   "execution_count": 33,
   "metadata": {},
   "outputs": [
    {
     "data": {
      "text/plain": [
       "0     252\n",
       "1     378\n",
       "2     312\n",
       "3     297\n",
       "4     361\n",
       "5     274\n",
       "6     352\n",
       "7     343\n",
       "8     320\n",
       "9     242\n",
       "10    305\n",
       "11    325\n",
       "Name: cost, dtype: int64"
      ]
     },
     "execution_count": 33,
     "metadata": {},
     "output_type": "execute_result"
    }
   ],
   "source": [
    "df['cost']"
   ]
  },
  {
   "cell_type": "code",
   "execution_count": 35,
   "metadata": {},
   "outputs": [
    {
     "data": {
      "text/html": [
       "<div>\n",
       "<style scoped>\n",
       "    .dataframe tbody tr th:only-of-type {\n",
       "        vertical-align: middle;\n",
       "    }\n",
       "\n",
       "    .dataframe tbody tr th {\n",
       "        vertical-align: top;\n",
       "    }\n",
       "\n",
       "    .dataframe thead th {\n",
       "        text-align: right;\n",
       "    }\n",
       "</style>\n",
       "<table border=\"1\" class=\"dataframe\">\n",
       "  <thead>\n",
       "    <tr style=\"text-align: right;\">\n",
       "      <th></th>\n",
       "      <th>medium</th>\n",
       "      <th>cost</th>\n",
       "    </tr>\n",
       "  </thead>\n",
       "  <tbody>\n",
       "    <tr>\n",
       "      <td>0</td>\n",
       "      <td>Picbook</td>\n",
       "      <td>252</td>\n",
       "    </tr>\n",
       "    <tr>\n",
       "      <td>1</td>\n",
       "      <td>Snapmart</td>\n",
       "      <td>378</td>\n",
       "    </tr>\n",
       "    <tr>\n",
       "      <td>2</td>\n",
       "      <td>Klicker</td>\n",
       "      <td>312</td>\n",
       "    </tr>\n",
       "    <tr>\n",
       "      <td>3</td>\n",
       "      <td>Funsta</td>\n",
       "      <td>297</td>\n",
       "    </tr>\n",
       "    <tr>\n",
       "      <td>4</td>\n",
       "      <td>Picbook</td>\n",
       "      <td>361</td>\n",
       "    </tr>\n",
       "    <tr>\n",
       "      <td>5</td>\n",
       "      <td>Snapmart</td>\n",
       "      <td>274</td>\n",
       "    </tr>\n",
       "    <tr>\n",
       "      <td>6</td>\n",
       "      <td>Klicker</td>\n",
       "      <td>352</td>\n",
       "    </tr>\n",
       "    <tr>\n",
       "      <td>7</td>\n",
       "      <td>Funsta</td>\n",
       "      <td>343</td>\n",
       "    </tr>\n",
       "    <tr>\n",
       "      <td>8</td>\n",
       "      <td>Picbook</td>\n",
       "      <td>320</td>\n",
       "    </tr>\n",
       "    <tr>\n",
       "      <td>9</td>\n",
       "      <td>Snapmart</td>\n",
       "      <td>242</td>\n",
       "    </tr>\n",
       "    <tr>\n",
       "      <td>10</td>\n",
       "      <td>Klicker</td>\n",
       "      <td>305</td>\n",
       "    </tr>\n",
       "    <tr>\n",
       "      <td>11</td>\n",
       "      <td>Funsta</td>\n",
       "      <td>325</td>\n",
       "    </tr>\n",
       "  </tbody>\n",
       "</table>\n",
       "</div>"
      ],
      "text/plain": [
       "      medium  cost\n",
       "0    Picbook   252\n",
       "1   Snapmart   378\n",
       "2    Klicker   312\n",
       "3     Funsta   297\n",
       "4    Picbook   361\n",
       "5   Snapmart   274\n",
       "6    Klicker   352\n",
       "7     Funsta   343\n",
       "8    Picbook   320\n",
       "9   Snapmart   242\n",
       "10   Klicker   305\n",
       "11    Funsta   325"
      ]
     },
     "execution_count": 35,
     "metadata": {},
     "output_type": "execute_result"
    }
   ],
   "source": [
    "df_company=pd.DataFrame({'medium':['Picbook','Snapmart','Klicker','Funsta']*3,'cost':[252,\n",
    "378,\n",
    "312,\n",
    "297,\n",
    "361,\n",
    "274,\n",
    "352,\n",
    "343,\n",
    "320,\n",
    "242,\n",
    "305,\n",
    "325]})\n",
    "df_company"
   ]
  },
  {
   "cell_type": "code",
   "execution_count": 36,
   "metadata": {},
   "outputs": [],
   "source": [
    "import statsmodels.stats.multicomp as mc"
   ]
  },
  {
   "cell_type": "code",
   "execution_count": 38,
   "metadata": {},
   "outputs": [
    {
     "data": {
      "text/html": [
       "<table class=\"simpletable\">\n",
       "<caption>Multiple Comparison of Means - Tukey HSD, FWER=0.01</caption>\n",
       "<tr>\n",
       "  <th>group1</th>   <th>group2</th>  <th>meandiff</th> <th>p-adj</th>   <th>lower</th>     <th>upper</th>  <th>reject</th>\n",
       "</tr>\n",
       "<tr>\n",
       "  <td>Funsta</td>   <td>Klicker</td>  <td>1.3333</td>   <td>0.9</td>  <td>-171.0867</td> <td>173.7533</td>  <td>False</td>\n",
       "</tr>\n",
       "<tr>\n",
       "  <td>Funsta</td>   <td>Picbook</td> <td>-10.6667</td>  <td>0.9</td>  <td>-183.0867</td> <td>161.7533</td>  <td>False</td>\n",
       "</tr>\n",
       "<tr>\n",
       "  <td>Funsta</td>  <td>Snapmart</td> <td>-23.6667</td>  <td>0.9</td>  <td>-196.0867</td> <td>148.7533</td>  <td>False</td>\n",
       "</tr>\n",
       "<tr>\n",
       "  <td>Klicker</td>  <td>Picbook</td>   <td>-12.0</td>   <td>0.9</td>   <td>-184.42</td>   <td>160.42</td>   <td>False</td>\n",
       "</tr>\n",
       "<tr>\n",
       "  <td>Klicker</td> <td>Snapmart</td>   <td>-25.0</td>   <td>0.9</td>   <td>-197.42</td>   <td>147.42</td>   <td>False</td>\n",
       "</tr>\n",
       "<tr>\n",
       "  <td>Picbook</td> <td>Snapmart</td>   <td>-13.0</td>   <td>0.9</td>   <td>-185.42</td>   <td>159.42</td>   <td>False</td>\n",
       "</tr>\n",
       "</table>"
      ],
      "text/plain": [
       "<class 'statsmodels.iolib.table.SimpleTable'>"
      ]
     },
     "execution_count": 38,
     "metadata": {},
     "output_type": "execute_result"
    }
   ],
   "source": [
    "mc_tk=mc.MultiComparison(data=df_company['cost'],groups=df_company['medium'])\n",
    "tk_hsd=mc_tk.tukeyhsd(alpha=0.01)\n",
    "tk_hsd.summary()"
   ]
  },
  {
   "cell_type": "markdown",
   "metadata": {},
   "source": [
    "###### INFERENCE:-\n",
    "    Funsta and Klicker are Same\n",
    "    Funsta and Picbook are Same\n",
    "    Funsta and Snapmart are Same\n",
    "    Klicker and Picbook are Same\n",
    "    Klicker and Snapmart are Same\n",
    "    Picbook and Snapmart are Same"
   ]
  }
 ],
 "metadata": {
  "kernelspec": {
   "display_name": "Python 3",
   "language": "python",
   "name": "python3"
  },
  "language_info": {
   "codemirror_mode": {
    "name": "ipython",
    "version": 3
   },
   "file_extension": ".py",
   "mimetype": "text/x-python",
   "name": "python",
   "nbconvert_exporter": "python",
   "pygments_lexer": "ipython3",
   "version": "3.7.4"
  }
 },
 "nbformat": 4,
 "nbformat_minor": 2
}
