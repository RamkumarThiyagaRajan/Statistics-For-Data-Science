{
 "cells": [
  {
   "cell_type": "markdown",
   "metadata": {},
   "source": [
    "<table align=\"center\" width=100%>\n",
    "    <tr>\n",
    "        <td width=\"15%\">\n",
    "            <img src=\"homework.png\">\n",
    "        </td>\n",
    "        <td>\n",
    "            <div align=\"center\">\n",
    "                <font color=\"#21618C\" size=8px>\n",
    "                    <b> Take-Home <br>(Day 3)\n",
    "                    </b>\n",
    "                </font>\n",
    "            </div>\n",
    "        </td>\n",
    "    </tr>\n",
    "</table>"
   ]
  },
  {
   "cell_type": "markdown",
   "metadata": {},
   "source": [
    "**Import the required libraries**"
   ]
  },
  {
   "cell_type": "code",
   "execution_count": 2,
   "metadata": {},
   "outputs": [],
   "source": [
    "# type your code here\n",
    "import numpy as np\n",
    "import pandas as pd\n",
    "import scipy.stats as stats"
   ]
  },
  {
   "cell_type": "markdown",
   "metadata": {},
   "source": [
    "### Let's begin with some hands-on practice exercises"
   ]
  },
  {
   "cell_type": "markdown",
   "metadata": {
    "collapsed": true
   },
   "source": [
    "<table align=\"left\">\n",
    "    <tr>\n",
    "        <td width=\"6%\">\n",
    "            <img src=\"question_icon.png\">\n",
    "        </td>\n",
    "        <td>\n",
    "            <div align=\"left\", style=\"font-size:120%\">\n",
    "                <font color=\"#21618C\">\n",
    "                    <b>1. A research paper in the medical journal claims that the average height of females in Nebraska is less than 168 cm. A group of physicians conducted a survey and collected the heights of 95 females from Nebraska, and recorded the average height as 163 cm with a standard deviation of 7 cm. Assume that the sample is drawn from a normally distributed population. Test the claim in the research paper using the 95% confidence level for the population mean.</b>\n",
    "                </font>\n",
    "            </div>\n",
    "        </td>\n",
    "    </tr>\n",
    "</table>"
   ]
  },
  {
   "cell_type": "code",
   "execution_count": 7,
   "metadata": {},
   "outputs": [
    {
     "name": "stdout",
     "output_type": "stream",
     "text": [
      "Population_Mean: 168\n",
      "Sample_Size: 95\n",
      "Sample_Mean: 163\n",
      "Sample_Standard Deviation: 7\n",
      "1_Sample t-Test Statistics: -6.961995960577831\n"
     ]
    }
   ],
   "source": [
    "# type your code here\n",
    "#Step1:-Hypothesis Formation\n",
    "\n",
    "#H0: mu=168\n",
    "#Ha: mu!=168\n",
    "\n",
    "#Step2:-\n",
    "#1.Data is normal\n",
    "#2.Sample standard Deviation=>t-Test  Statistics\n",
    "#3.Given one sample-continuous data we can go with one sample t-Test\n",
    "\n",
    "#Step3:Test Statistics\n",
    "mu=168\n",
    "print('Population_Mean:',mu)\n",
    "n=95\n",
    "print('Sample_Size:',n)\n",
    "x_bar=163 #Sample_Mean\n",
    "print('Sample_Mean:',x_bar)\n",
    "s=7 #Sample_Standard Deviation\n",
    "print('Sample_Standard Deviation:',s)\n",
    "t=(x_bar-mu)/(s/n**0.5)\n",
    "print('1_Sample t-Test Statistics:',t)"
   ]
  },
  {
   "cell_type": "code",
   "execution_count": 9,
   "metadata": {},
   "outputs": [
    {
     "name": "stdout",
     "output_type": "stream",
     "text": [
      "P_Value: 4.4881397133649704e-10\n"
     ]
    }
   ],
   "source": [
    "#Step4:-PValue:-\n",
    "pval=stats.t.sf(abs(t),df=n-1)*2\n",
    "print('P_Value:',pval)"
   ]
  },
  {
   "cell_type": "code",
   "execution_count": null,
   "metadata": {},
   "outputs": [],
   "source": [
    "#sig lvl=0.05\n",
    "#pval=4.4881397133649704e-10\n",
    "#pval<sig lvl=>H0 is Rejected,Ha is Selected which means mu is not 168 i.e mu!=168,average height of females in Nebraska is not168 cm\n",
    "#t-Test Statistics is -ve=>average height of females in Nebraska is less than 168 cm"
   ]
  },
  {
   "cell_type": "markdown",
   "metadata": {},
   "source": [
    "###### INFERENCE:-\n",
    "    The average height of females in Nebraska is less than 168 cm as Claim by researchpaper in medical journal is Correct"
   ]
  },
  {
   "cell_type": "markdown",
   "metadata": {
    "collapsed": true
   },
   "source": [
    "<table align=\"left\">\n",
    "    <tr>\n",
    "        <td width=\"6%\">\n",
    "            <img src=\"question_icon.png\">\n",
    "        </td>\n",
    "        <td>\n",
    "            <div align=\"left\", style=\"font-size:120%\">\n",
    "                <font color=\"#21618C\">\n",
    "                    <b>2. A financial firm AlpaMoney has recently started their online payment gateway and claims that the level of customer satisfaction about the transactions is the same as that of their competitor firm PayEarly. Consider the equality of an average level of satisfaction as the null hypothesis and test the claim using with 90% confidence.Assume data is normal.</b>\n",
    "                </font>\n",
    "            </div>\n",
    "        </td>\n",
    "    </tr>\n",
    "</table>"
   ]
  },
  {
   "cell_type": "markdown",
   "metadata": {},
   "source": [
    "<img src='2_z.png'>"
   ]
  },
  {
   "cell_type": "code",
   "execution_count": null,
   "metadata": {},
   "outputs": [],
   "source": [
    "# type your code here\n",
    "#Step1:-Hypothesis\n",
    "#H0: mu=Avg customer satisfaction about the transactions in AlpaMoney and PayEarly are Same\n",
    "#Ha: mu!=Avg customer satisfaction about the transactions in AlpaMoney and PayEarly are not Same\n",
    "\n",
    "#H0: mu1-mu2=0\n",
    "#Ha: mu1-mu2!=0\n",
    "\n",
    "#Step2:-\n",
    "#1.Data is Normal\n",
    "#2.Sample standard Deviation is known #sample Standard Deviation=>t-test\n",
    "#3.2 Samples are given=>which are unpaired we can use 2Sample t-Test unpaired "
   ]
  },
  {
   "cell_type": "code",
   "execution_count": 11,
   "metadata": {},
   "outputs": [
    {
     "name": "stdout",
     "output_type": "stream",
     "text": [
      "Sample1_Mean: 4.23\n",
      "Sample2_Mean: 3.56\n",
      "Sample1_Standard_Deviation: 1.6\n",
      "Sample2_Standard_Deviation: 0.72\n",
      "Sample1_Size: 527\n",
      "Sample2_Size: 652\n"
     ]
    }
   ],
   "source": [
    "#Step3:-Test Statistics\n",
    "x1_bar=4.23\n",
    "print('Sample1_Mean:',x1_bar)\n",
    "x2_bar=3.56\n",
    "print('Sample2_Mean:',x2_bar)\n",
    "s1=1.6\n",
    "print('Sample1_Standard_Deviation:',s1)\n",
    "s2=0.72\n",
    "print('Sample2_Standard_Deviation:',s2)\n",
    "n1=527\n",
    "print('Sample1_Size:',n1)\n",
    "n2=652\n",
    "print('Sample2_Size:',n2)\n",
    "df1=n1-1\n",
    "df2=n2-1\n",
    "df_total=df1+df2"
   ]
  },
  {
   "cell_type": "code",
   "execution_count": 13,
   "metadata": {},
   "outputs": [
    {
     "name": "stdout",
     "output_type": "stream",
     "text": [
      "Pooled_Variance: 1.4307887850467291\n"
     ]
    }
   ],
   "source": [
    "sp_var=(df1*s1**2+df2*s2**2)/(df1+df2)\n",
    "print('Pooled_Variance:',sp_var)"
   ]
  },
  {
   "cell_type": "code",
   "execution_count": 15,
   "metadata": {},
   "outputs": [
    {
     "name": "stdout",
     "output_type": "stream",
     "text": [
      "2Sample_t_Test_Unpaired_Statistics: 9.562231241580095\n"
     ]
    }
   ],
   "source": [
    "num=(x1_bar-x2_bar)-0\n",
    "denom=np.sqrt(sp_var*(1/n1+1/n2))\n",
    "t=num/denom\n",
    "print('2Sample_t_Test_Unpaired_Statistics:',t)"
   ]
  },
  {
   "cell_type": "code",
   "execution_count": 16,
   "metadata": {},
   "outputs": [
    {
     "name": "stdout",
     "output_type": "stream",
     "text": [
      "P_Value: 6.4753500680692976e-21\n"
     ]
    }
   ],
   "source": [
    "#Step4:P_Value:-\n",
    "pval=stats.t.sf(abs(t),df=df_total)*2\n",
    "print('P_Value:',pval)"
   ]
  },
  {
   "cell_type": "code",
   "execution_count": null,
   "metadata": {},
   "outputs": [],
   "source": [
    "#pval=6.4753500680692976e-21\n",
    "#sig lvl=0.1\n",
    "#pval<sign lvl=>H0 is Rejected,Ha is Selected which means \n",
    "#mu!=Avg customer satisfaction about the transactions in AlpaMoney and PayEarly are not Same"
   ]
  },
  {
   "cell_type": "code",
   "execution_count": 17,
   "metadata": {},
   "outputs": [],
   "source": [
    "#t-Test Statistics is +ve=>Avg customer satisfaction about the transactions in AlpaMoney are more than PayEarly "
   ]
  },
  {
   "cell_type": "markdown",
   "metadata": {},
   "source": [
    "###### INFERENCE:-\n",
    "    The Average customer satisfaction in AlpaMoney of their new online payment gateway about the transactions are more than PayEarly "
   ]
  },
  {
   "cell_type": "markdown",
   "metadata": {
    "collapsed": true
   },
   "source": [
    "<table align=\"left\">\n",
    "    <tr>\n",
    "        <td width=\"6%\">\n",
    "            <img src=\"question_icon.png\">\n",
    "        </td>\n",
    "        <td>\n",
    "            <div align=\"left\", style=\"font-size:120%\">\n",
    "                <font color=\"#21618C\">\n",
    "                    <b>3. The economic journal claims that the students who graduated from tier 1 universities get more salary than the average salary of 35000$. A random sample of 20 graduated students is selected to test the claim. Test the claim with 0.1 as a level of significance.\n",
    "</b>\n",
    "                </font>\n",
    "            </div>\n",
    "        </td>\n",
    "    </tr>\n",
    "</table>"
   ]
  },
  {
   "cell_type": "markdown",
   "metadata": {},
   "source": [
    "Use the data given below:\n",
    "\n",
    "        salary = [29560, 26534, 31020, 44300, 52335, 69190, 71100, 80100, 90000, 41002, 46118, 88129, 79713, 95881, 47989,\n",
    "                  15188, 91631, 96189, 77819, 79590]"
   ]
  },
  {
   "cell_type": "code",
   "execution_count": 19,
   "metadata": {},
   "outputs": [],
   "source": [
    "salary = [29560, 26534, 31020, 44300, 52335, 69190, 71100, 80100, 90000, 41002, 46118, 88129, 79713, 95881, 47989,\n",
    "              15188, 91631, 96189, 77819, 79590]"
   ]
  },
  {
   "cell_type": "code",
   "execution_count": 20,
   "metadata": {},
   "outputs": [],
   "source": [
    "salary_num=np.array(salary)"
   ]
  },
  {
   "cell_type": "code",
   "execution_count": 23,
   "metadata": {},
   "outputs": [
    {
     "name": "stdout",
     "output_type": "stream",
     "text": [
      "Population_Mean: 168\n",
      "Sample-Size: 20\n",
      "Sample_Mean: 62669.4\n",
      "Sample_Standard Deviation: 25244.3685411222\n",
      "one_sample t-Test Statistics: 11.072360860303988\n"
     ]
    }
   ],
   "source": [
    "# type your code here\n",
    "#Step1:-Hypothesis Formation\n",
    "\n",
    "#H0: mu=35000 #average salary of 35000$\n",
    "#Ha: mu!=35000 #average salary not 35000$\n",
    "\n",
    "#Step2:-\n",
    "#1.Data is normal\n",
    "#2.Sample standard Deviation=>\n",
    "#one sample t-Test\n",
    "\n",
    "#Step3:Test Statistics\n",
    "m=35000\n",
    "print('Population_Mean:',mu)\n",
    "n=len(salary_num)\n",
    "print('Sample-Size:',n)\n",
    "x_bar=np.mean(salary_num)\n",
    "print('Sample_Mean:',x_bar)\n",
    "\n",
    "s=np.std(salary_num)\n",
    "print('Sample_Standard Deviation:',s)\n",
    "\n",
    "\n",
    "t=(x_bar-mu)/(s/n**0.5)\n",
    "print('one_sample t-Test Statistics:',t)"
   ]
  },
  {
   "cell_type": "code",
   "execution_count": 22,
   "metadata": {},
   "outputs": [
    {
     "name": "stdout",
     "output_type": "stream",
     "text": [
      "P_Value: 9.95693169885393e-10\n"
     ]
    }
   ],
   "source": [
    "#Step4:-P_Value:-\n",
    "pval=stats.t.sf(abs(t),df=n-1)*2\n",
    "print('P_Value:',pval)"
   ]
  },
  {
   "cell_type": "code",
   "execution_count": null,
   "metadata": {},
   "outputs": [],
   "source": [
    "#sig lvl=0.1\n",
    "#pval=9.95693169885393e-10\n",
    "#pval<sign lvl H0 is Rejected,Ha is Selected which means mu!=35000 i.e average salary is not 35000$\n",
    "#one_sample t-Test Statistics is +ve which means average salary is morethan 35000$"
   ]
  },
  {
   "cell_type": "markdown",
   "metadata": {},
   "source": [
    "###### INFERENCE:-\n",
    "    The Economic journal claim of students who graduated from tier 1 universities get more salary than the average salary of $35000 is seems to be True."
   ]
  },
  {
   "cell_type": "markdown",
   "metadata": {
    "collapsed": true
   },
   "source": [
    "<table align=\"left\">\n",
    "    <tr>\n",
    "        <td width=\"6%\">\n",
    "            <img src=\"question_icon.png\">\n",
    "        </td>\n",
    "        <td>\n",
    "            <div align=\"left\", style=\"font-size:120%\">\n",
    "                <font color=\"#21618C\">\n",
    "                    <b>4. Amy and Susan are national level swimmers. Their coach conducts five rounds each of 400 m and records the time taken by the individuals. Use 0.05 as a level of significance.</b>\n",
    "                </font>\n",
    "            </div>\n",
    "        </td>\n",
    "    </tr>\n",
    "</table>"
   ]
  },
  {
   "cell_type": "markdown",
   "metadata": {},
   "source": [
    "Use the timing (in minutes) given below:\n",
    "\n",
    "        Amy_time = [4.2, 3, 3.8, 5, 4.6]\n",
    "        Susan_time = [5.2, 4.6, 3.9, 4.4, 5]"
   ]
  },
  {
   "cell_type": "code",
   "execution_count": 28,
   "metadata": {},
   "outputs": [],
   "source": [
    "Amy_time = [4.2, 3, 3.8, 5, 4.6]\n",
    "Susan_time = [5.2, 4.6, 3.9, 4.4, 5]"
   ]
  },
  {
   "cell_type": "code",
   "execution_count": 29,
   "metadata": {},
   "outputs": [],
   "source": [
    "Amy_time_num=np.array(Amy_time)\n",
    "Susan_time_num=np.array(Susan_time)"
   ]
  },
  {
   "cell_type": "code",
   "execution_count": 31,
   "metadata": {},
   "outputs": [
    {
     "name": "stdout",
     "output_type": "stream",
     "text": [
      "Pooled Variance: 0.3416\n",
      "2Sample t-testStatisics: -1.3526364229681407\n",
      "PValue: 0.21315831653996267\n"
     ]
    }
   ],
   "source": [
    "# type your code here\n",
    "#Step1:-Hypothesis Formation\n",
    "#H0: mu1=Avg time taken by Amy and Susan are Same\n",
    "#Ha: mu!=Avg time taken by Amy and Susan are not Same\n",
    "\n",
    "#H0: mu1-mu2=0\n",
    "#Ha: mu1-mu2!=0\n",
    "\n",
    "#Step2:-\n",
    "#1.Data is Normal\n",
    "#2.Sample standard Deviation is known #sample Standard Deviation=>t-test\n",
    "#3.Given:-2 Samples are given #2 Sample t-Test unpaired Statistics\n",
    "\n",
    "x1_bar=np.mean(Amy_time_num)\n",
    "x2_bar=np.mean(Susan_time_num)\n",
    "s1=np.std(Amy_time_num)\n",
    "s2=np.std(Susan_time_num)\n",
    "n1=len(Amy_time_num)\n",
    "n2=len(Susan_time_num)\n",
    "df1=n1-1\n",
    "df2=n2-1\n",
    "df_total=df1+df2\n",
    "\n",
    "sp_var=(df1*s1**2+df2*s2**2)/(df1+df2)\n",
    "print('Pooled Variance:',sp_var)\n",
    "\n",
    "num=(x1_bar-x2_bar)-0\n",
    "denom=np.sqrt(sp_var*(1/n1+1/n2))\n",
    "t=num/denom\n",
    "print('2Sample t-testStatisics:',t)\n",
    "\n",
    "#Step3:-PValue:-\n",
    "pval=stats.t.sf(abs(t),df=df_total)*2\n",
    "print('PValue:',pval)\n",
    "\n"
   ]
  },
  {
   "cell_type": "code",
   "execution_count": null,
   "metadata": {},
   "outputs": [],
   "source": [
    "#pval=0.213\n",
    "#sig lvl=0.05\n",
    "#pval>sign lvl H0 is Selected,Ha is Rejected which means mu1=Avg time taken by Amy and Susan are Same"
   ]
  },
  {
   "cell_type": "markdown",
   "metadata": {},
   "source": [
    "###### INFERENCE:-\n",
    "    The Average time taken by Amy and Susan are Same"
   ]
  },
  {
   "cell_type": "markdown",
   "metadata": {
    "collapsed": true
   },
   "source": [
    "<table align=\"left\">\n",
    "    <tr>\n",
    "        <td width=\"6%\">\n",
    "            <img src=\"question_icon.png\">\n",
    "        </td>\n",
    "        <td>\n",
    "            <div align=\"left\", style=\"font-size:120%\">\n",
    "                <font color=\"#21618C\">\n",
    "                    <b>5. A multinational company had organized a presentation activity to test the soft skills of their 6 sales executives and then offered them a skill development course. After the completion of the course, the executives again appeared for the presentation and the scores before and after the course are recorded. Test the company's claim that the course was effective in developing soft skills with 90% confidence using the p-value technique.</b>\n",
    "                </font>\n",
    "            </div>\n",
    "        </td>\n",
    "    </tr>\n",
    "</table>"
   ]
  },
  {
   "cell_type": "markdown",
   "metadata": {},
   "source": [
    "Consider the scores given in the file `paired_data.xlsx`"
   ]
  },
  {
   "cell_type": "code",
   "execution_count": 32,
   "metadata": {},
   "outputs": [
    {
     "data": {
      "text/html": [
       "<div>\n",
       "<style scoped>\n",
       "    .dataframe tbody tr th:only-of-type {\n",
       "        vertical-align: middle;\n",
       "    }\n",
       "\n",
       "    .dataframe tbody tr th {\n",
       "        vertical-align: top;\n",
       "    }\n",
       "\n",
       "    .dataframe thead th {\n",
       "        text-align: right;\n",
       "    }\n",
       "</style>\n",
       "<table border=\"1\" class=\"dataframe\">\n",
       "  <thead>\n",
       "    <tr style=\"text-align: right;\">\n",
       "      <th></th>\n",
       "      <th>before_score</th>\n",
       "      <th>after_score</th>\n",
       "    </tr>\n",
       "  </thead>\n",
       "  <tbody>\n",
       "    <tr>\n",
       "      <td>0</td>\n",
       "      <td>23</td>\n",
       "      <td>32</td>\n",
       "    </tr>\n",
       "    <tr>\n",
       "      <td>1</td>\n",
       "      <td>38</td>\n",
       "      <td>36</td>\n",
       "    </tr>\n",
       "    <tr>\n",
       "      <td>2</td>\n",
       "      <td>35</td>\n",
       "      <td>48</td>\n",
       "    </tr>\n",
       "    <tr>\n",
       "      <td>3</td>\n",
       "      <td>45</td>\n",
       "      <td>47</td>\n",
       "    </tr>\n",
       "    <tr>\n",
       "      <td>4</td>\n",
       "      <td>32</td>\n",
       "      <td>40</td>\n",
       "    </tr>\n",
       "  </tbody>\n",
       "</table>\n",
       "</div>"
      ],
      "text/plain": [
       "   before_score  after_score\n",
       "0            23           32\n",
       "1            38           36\n",
       "2            35           48\n",
       "3            45           47\n",
       "4            32           40"
      ]
     },
     "execution_count": 32,
     "metadata": {},
     "output_type": "execute_result"
    }
   ],
   "source": [
    "# type your code here\n",
    "df=pd.read_excel('paired_data.xlsx')\n",
    "df.head()"
   ]
  },
  {
   "cell_type": "code",
   "execution_count": 33,
   "metadata": {},
   "outputs": [
    {
     "data": {
      "text/plain": [
       "(0.9983048439025879, 0.999838650226593)"
      ]
     },
     "execution_count": 33,
     "metadata": {},
     "output_type": "execute_result"
    }
   ],
   "source": [
    "#CHECKING THE NORMALITY USING SHAPIRO TEST\n",
    "stats.shapiro(df['before_score'])"
   ]
  },
  {
   "cell_type": "code",
   "execution_count": 34,
   "metadata": {},
   "outputs": [
    {
     "data": {
      "text/plain": [
       "(0.903013288974762, 0.39204761385917664)"
      ]
     },
     "execution_count": 34,
     "metadata": {},
     "output_type": "execute_result"
    }
   ],
   "source": [
    "stats.shapiro(df['after_score'])"
   ]
  },
  {
   "cell_type": "code",
   "execution_count": null,
   "metadata": {},
   "outputs": [],
   "source": [
    "#Both p1 and p2 are >sig lvl=0.1\n",
    "#Data is normal\n",
    "#Sample standard deivation is known and for two samples we need to find  the comparison which are paired so we go with Two sample t-Test paired statistics"
   ]
  },
  {
   "cell_type": "code",
   "execution_count": null,
   "metadata": {},
   "outputs": [],
   "source": [
    "#Step1:-Hypothesis\n",
    "#H0: mu1=(before_score)=(after_score) are Same\n",
    "#Ha: mu1!=(before_score)=(after_score) are not Same\n",
    "\n",
    "#H0: mu1-mu2(mu_d)=0\n",
    "#Ha: mu1-mu2(mu_d)!=0"
   ]
  },
  {
   "cell_type": "code",
   "execution_count": 35,
   "metadata": {},
   "outputs": [
    {
     "data": {
      "text/plain": [
       "Ttest_1sampResult(statistic=-2.75783135866153, pvalue=0.03993727174744146)"
      ]
     },
     "execution_count": 35,
     "metadata": {},
     "output_type": "execute_result"
    }
   ],
   "source": [
    "diff=df['before_score']-df['after_score']\n",
    "stats.ttest_1samp(diff,popmean=0)"
   ]
  },
  {
   "cell_type": "code",
   "execution_count": 36,
   "metadata": {},
   "outputs": [
    {
     "data": {
      "text/plain": [
       "Ttest_relResult(statistic=-2.75783135866153, pvalue=0.03993727174744146)"
      ]
     },
     "execution_count": 36,
     "metadata": {},
     "output_type": "execute_result"
    }
   ],
   "source": [
    "stats.ttest_rel(df['before_score'],df['after_score'])"
   ]
  },
  {
   "cell_type": "code",
   "execution_count": null,
   "metadata": {},
   "outputs": [],
   "source": [
    "#p_value=0.039\n",
    "#sign lvl=0.1\n",
    "#pval<sign lvl H0 is Rejected,Ha is Selected which means mu1!=(before_score)=(after_score) are not Same"
   ]
  },
  {
   "cell_type": "code",
   "execution_count": null,
   "metadata": {},
   "outputs": [],
   "source": [
    "#2Sample t-Test Paired Statistics is -ve=>score before the course is less than After the course Score\n",
    "#which means skill development course is effective"
   ]
  },
  {
   "cell_type": "markdown",
   "metadata": {},
   "source": [
    "###### INFERENCE:-\n",
    "    The skill development course is effective"
   ]
  },
  {
   "cell_type": "markdown",
   "metadata": {
    "collapsed": true
   },
   "source": [
    "<table align=\"left\">\n",
    "    <tr>\n",
    "        <td width=\"6%\">\n",
    "            <img src=\"question_icon.png\">\n",
    "        </td>\n",
    "        <td>\n",
    "            <div align=\"left\", style=\"font-size:120%\">\n",
    "                <font color=\"#21618C\">\n",
    "                    <b>6. A survey conducted by the department of education states that the proportion of students who quit education due to financial crisis is more than 38%. To test this claim a group of 450 students is selected out of which 205 are found to be dropped out from school due to financial crisis. Test the claim with 95% confidence. </b>\n",
    "                </font>\n",
    "            </div>\n",
    "        </td>\n",
    "    </tr>\n",
    "</table>"
   ]
  },
  {
   "cell_type": "code",
   "execution_count": 1,
   "metadata": {},
   "outputs": [],
   "source": [
    "# type your code here\n",
    "#Step1:-Hypothesis Formation:-\n",
    "#H0:-p_pop(proportion of students quitting education due to financial crisis more than 205)=0.38\n",
    "#Ha:-p_pop(proportion of students quitting education due to financial crisis more than 205)!=0.38"
   ]
  },
  {
   "cell_type": "code",
   "execution_count": null,
   "metadata": {},
   "outputs": [],
   "source": [
    "#Step2:\n",
    "#1.Data is normal\n",
    "#2.Given one Sample Proportion=>z-Test one Sample Proportion"
   ]
  },
  {
   "cell_type": "code",
   "execution_count": 39,
   "metadata": {},
   "outputs": [
    {
     "name": "stdout",
     "output_type": "stream",
     "text": [
      "Population_Proportion: 0.38\n",
      "Sample_Size: 450\n",
      "Sample_Proportion: 0.38\n",
      "One Sample Z Proportion Test: 3.3020604315723676\n"
     ]
    }
   ],
   "source": [
    "#Step3:-One Sample Z Proportion Test\n",
    "p_pop=0.38\n",
    "print('Population_Proportion:',p_pop)\n",
    "n=450\n",
    "print('Sample_Size:',n)\n",
    "proportion_sample=205/450\n",
    "print('Sample_Proportion:',p_pop)\n",
    "num=proportion_sample-p_pop\n",
    "denom=np.sqrt((p_pop*(1-p_pop))/n)\n",
    "z=num/denom\n",
    "print('One Sample Z Proportion Test:',z)"
   ]
  },
  {
   "cell_type": "code",
   "execution_count": 40,
   "metadata": {},
   "outputs": [
    {
     "name": "stdout",
     "output_type": "stream",
     "text": [
      "P_Value: 0.0009597738970631939\n"
     ]
    }
   ],
   "source": [
    "pval=stats.norm.sf(abs(z))*2\n",
    "print('P_Value:',pval)"
   ]
  },
  {
   "cell_type": "code",
   "execution_count": null,
   "metadata": {},
   "outputs": [],
   "source": [
    "#pval=0.00095\n",
    "#sign lvl=0.05\n",
    "#pval<sign lvl=>H0 is Rejected,Ha is Selected which means\n",
    "#proportion of students quitting education due to financial crisis is not more than 205 for population for mean of 0.38"
   ]
  },
  {
   "cell_type": "code",
   "execution_count": null,
   "metadata": {},
   "outputs": [],
   "source": [
    "#One Sample Z Proportion Test is +ve which means \n",
    "#proportion of students quitting education due to financial crisis is more than 205 for population is for mean greater than mean of 0.38"
   ]
  },
  {
   "cell_type": "markdown",
   "metadata": {
    "collapsed": true
   },
   "source": [
    "<table align=\"left\">\n",
    "    <tr>\n",
    "        <td width=\"6%\">\n",
    "            <img src=\"question_icon.png\">\n",
    "        </td>\n",
    "        <td>\n",
    "            <div align=\"left\", style=\"font-size:120%\">\n",
    "                <font color=\"#21618C\">\n",
    "                    <b>7. Two leading medical institutes CureOn and MedFirst have produced new vaccines on ebola. The vaccine produced by CureOn is given to 252 people in the UK out of which 78 had severe side-effects also the vaccine produced by MedFirst is given to 425 people in the UK out of which 92 had severe side-effects. Can we conclude that the vaccine produced by MedFirst is more reliable? Test the claim  with 99% confidence.</b>\n",
    "                </font>\n",
    "            </div>\n",
    "        </td>\n",
    "    </tr>\n",
    "</table>"
   ]
  },
  {
   "cell_type": "code",
   "execution_count": null,
   "metadata": {},
   "outputs": [],
   "source": [
    "#Step1:-Hypothesis Formation\n",
    "#H0:P_Pop1(Proportion of severe side-effects in CureOn)=P_Pop2(Proportion of severe side-effects in MedFirst)\n",
    "#Ha:P_Pop1!=P_Pop2"
   ]
  },
  {
   "cell_type": "code",
   "execution_count": 41,
   "metadata": {},
   "outputs": [
    {
     "data": {
      "text/plain": [
       "(2.6989326141605403, 0.006956226005468977)"
      ]
     },
     "execution_count": 41,
     "metadata": {},
     "output_type": "execute_result"
    }
   ],
   "source": [
    "# type your code here\n",
    "import statsmodels.api as sm\n",
    "sm.stats.proportions_ztest(count=[78,92],nobs=[252,425])"
   ]
  },
  {
   "cell_type": "code",
   "execution_count": null,
   "metadata": {},
   "outputs": [],
   "source": [
    "#pval=0.0069\n",
    "#sign lvl=0.01\n",
    "#pval<sign lvl Ho is Rejected Ha is Selected \n",
    "#Which means Proportion of severe side-effects in CureOn and Proportion of severe side-effects in MedFirst are not Same"
   ]
  },
  {
   "cell_type": "code",
   "execution_count": null,
   "metadata": {},
   "outputs": [],
   "source": [
    "#2sample_z-proportiontest is +ve \n",
    "#which means Proportion of severe side-effects in CureOn is more than Proportion of severe side-effects in MedFirst\n",
    "#yes Can we conclude that the vaccine produced by MedFirst is more reliable"
   ]
  },
  {
   "cell_type": "markdown",
   "metadata": {},
   "source": [
    "###### INFERENCE:-\n",
    "    yes Can we conclude that the vaccine produced by MedFirst is more reliable Because Proportion of severe side-effects in CureOn is more than Proportion of severe side-effects in MedFirst"
   ]
  }
 ],
 "metadata": {
  "kernelspec": {
   "display_name": "Python 3",
   "language": "python",
   "name": "python3"
  },
  "language_info": {
   "codemirror_mode": {
    "name": "ipython",
    "version": 3
   },
   "file_extension": ".py",
   "mimetype": "text/x-python",
   "name": "python",
   "nbconvert_exporter": "python",
   "pygments_lexer": "ipython3",
   "version": "3.7.4"
  }
 },
 "nbformat": 4,
 "nbformat_minor": 2
}
