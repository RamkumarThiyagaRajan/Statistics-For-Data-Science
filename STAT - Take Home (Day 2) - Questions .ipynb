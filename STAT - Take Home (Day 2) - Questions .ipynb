{
 "cells": [
  {
   "cell_type": "markdown",
   "metadata": {},
   "source": [
    "<table align=\"center\" width=100%>\n",
    "    <tr>\n",
    "        <td width=\"15%\">\n",
    "            <img src=\"homework.png\">\n",
    "        </td>\n",
    "        <td>\n",
    "            <div align=\"center\">\n",
    "                <font color=\"#21618C\" size=8px>\n",
    "                    <b> Take-Home <br>(Day 2)\n",
    "                    </b>\n",
    "                </font>\n",
    "            </div>\n",
    "        </td>\n",
    "    </tr>\n",
    "</table>"
   ]
  },
  {
   "cell_type": "markdown",
   "metadata": {},
   "source": [
    "**Import the required libraries**"
   ]
  },
  {
   "cell_type": "code",
   "execution_count": 26,
   "metadata": {},
   "outputs": [],
   "source": [
    "# type your code here\n",
    "import numpy as np\n",
    "import pandas as pd\n",
    "import scipy.stats as stats"
   ]
  },
  {
   "cell_type": "markdown",
   "metadata": {},
   "source": [
    "### Let's begin with some hands-on practice exercises"
   ]
  },
  {
   "cell_type": "markdown",
   "metadata": {
    "collapsed": true
   },
   "source": [
    "<table align=\"left\">\n",
    "    <tr>\n",
    "        <td width=\"6%\">\n",
    "            <img src=\"question_icon.png\">\n",
    "        </td>\n",
    "        <td>\n",
    "            <div align=\"left\", style=\"font-size:120%\">\n",
    "                <font color=\"#21618C\">\n",
    "                    <b>1. The meteorological department states that on average the temperature on summer days is 82 (degree F) in California. For a study on climate change, a sample of data is collected for 20 summer days. Find the sampling error for the mean.</b>\n",
    "                </font>\n",
    "            </div>\n",
    "        </td>\n",
    "    </tr>\n",
    "</table>"
   ]
  },
  {
   "cell_type": "markdown",
   "metadata": {},
   "source": [
    "Use the data given below:\n",
    "        \n",
    "            temp (in F) = [51, 68, 83, 93, 89, 58, 79, 54, 60, 77, 87, 57, 63, 85, 92, 74, 67, 88, 91, 82]"
   ]
  },
  {
   "cell_type": "code",
   "execution_count": 3,
   "metadata": {},
   "outputs": [],
   "source": [
    "temp=[51, 68, 83, 93, 89, 58, 79, 54, 60, 77, 87, 57, 63, 85, 92, 74, 67, 88, 91, 82]"
   ]
  },
  {
   "cell_type": "markdown",
   "metadata": {},
   "source": [
    "##### SAMPLING ERROR:-"
   ]
  },
  {
   "cell_type": "code",
   "execution_count": 7,
   "metadata": {},
   "outputs": [
    {
     "name": "stdout",
     "output_type": "stream",
     "text": [
      "[54 87 60 85 57 92 68 58 83 63 63 89 68 63 63]\n",
      "sampling Error: 5.0\n"
     ]
    }
   ],
   "source": [
    "# type your code here\n",
    "#Sampling Error:-\n",
    "mu_true=np.mean(temp)\n",
    "sample=np.random.choice(temp,size=15,replace=True)\n",
    "print(sample)\n",
    "x_bar=np.mean(sample)\n",
    "sampling_error=abs(mu_true-x_bar)\n",
    "print('sampling Error:',round(sampling_error))"
   ]
  },
  {
   "cell_type": "markdown",
   "metadata": {
    "collapsed": true
   },
   "source": [
    "<table align=\"left\">\n",
    "    <tr>\n",
    "        <td width=\"6%\">\n",
    "            <img src=\"question_icon.png\">\n",
    "        </td>\n",
    "        <td>\n",
    "            <div align=\"left\", style=\"font-size:120%\">\n",
    "                <font color=\"#21618C\">\n",
    "                    <b>2. A team of IT experts wants to estimate the average time required to a system to run a specific program. The team aims to estimate the average time with 95% confidence. A technical report from last week shows that the standard deviation is 3.8 minutes. The team decides that the margin of error should be 1.2 minutes. How many systems should the team choose for the estimation? </b>\n",
    "                </font>\n",
    "            </div>\n",
    "        </td>\n",
    "    </tr>\n",
    "</table>"
   ]
  },
  {
   "cell_type": "code",
   "execution_count": 39,
   "metadata": {},
   "outputs": [
    {
     "name": "stdout",
     "output_type": "stream",
     "text": [
      "The team should choose 27.0 systems for the estimation\n"
     ]
    }
   ],
   "source": [
    "# type your code here\n",
    "sigma=3.8\n",
    "me=1.2\n",
    "z=stats.norm.isf(0.05)\n",
    "\n",
    "n=((z*sigma)/me)**2\n",
    "print('The team should choose' ,round(n),'systems for the estimation')"
   ]
  },
  {
   "cell_type": "markdown",
   "metadata": {
    "collapsed": true
   },
   "source": [
    "<table align=\"left\">\n",
    "    <tr>\n",
    "        <td width=\"6%\">\n",
    "            <img src=\"question_icon.png\">\n",
    "        </td>\n",
    "        <td>\n",
    "            <div align=\"left\", style=\"font-size:120%\">\n",
    "                <font color=\"#21618C\">\n",
    "                    <b>3. The production manager at the Xen Sewing Factory claims that on average the diameter of a class 14M bobbin is less than 18 mm. The previous study shows that the population standard deviation is 1.7 mm. Consider a sample of 40 class 14M bobbins from a normally distributed population with sample mean diameter as 17.5 mm. Calculate 99% confidence interval for the population mean diameter.\n",
    "</b>\n",
    "                </font>\n",
    "            </div>\n",
    "        </td>\n",
    "    </tr>\n",
    "</table>"
   ]
  },
  {
   "cell_type": "code",
   "execution_count": 10,
   "metadata": {},
   "outputs": [
    {
     "name": "stdout",
     "output_type": "stream",
     "text": [
      "16.97317422254112 18.02682577745888\n"
     ]
    }
   ],
   "source": [
    "# type your code here\n",
    "mu=18 #population mean\n",
    "sigma=1.7 #population standard deviation is known,so z stats\n",
    "n=40 #number of sample\n",
    "x_bar=17.5 #sample mean\n",
    "confidence_level=0.99\n",
    "\n",
    "z=stats.norm.isf(0.025)\n",
    "ll=x_bar-(z*(sigma/(n**0.5)))\n",
    "ul=x_bar+(z*(sigma/(n**0.5)))\n",
    "print(ll,ul)"
   ]
  },
  {
   "cell_type": "markdown",
   "metadata": {},
   "source": [
    "##### INFERENCE:-\n",
    "    For 99% confidence interval the population mean diameter is Between 16.97 to 18.02"
   ]
  },
  {
   "cell_type": "markdown",
   "metadata": {
    "collapsed": true
   },
   "source": [
    "<table align=\"left\">\n",
    "    <tr>\n",
    "        <td width=\"6%\">\n",
    "            <img src=\"question_icon.png\">\n",
    "        </td>\n",
    "        <td>\n",
    "            <div align=\"left\", style=\"font-size:120%\">\n",
    "                <font color=\"#21618C\">\n",
    "                    <b>4. A construction company wants to estimate the daily wages of contract workers. In the construction business, the wages of contract workers follow the normal distribution with population standard deviation of 85 dollars. A sample of wages for 50 contract workers is considered for the study. Calculate the margin of error for a 95% confidence level.</b>\n",
    "                </font>\n",
    "            </div>\n",
    "        </td>\n",
    "    </tr>\n",
    "</table>"
   ]
  },
  {
   "cell_type": "code",
   "execution_count": 41,
   "metadata": {},
   "outputs": [
    {
     "name": "stdout",
     "output_type": "stream",
     "text": [
      "The marginal of error for 95% confidence is 24.0\n"
     ]
    }
   ],
   "source": [
    "\n",
    "#Given:-\n",
    "sigma=85\n",
    "n=50\n",
    "confidence_level=0.95\n",
    "#to find:me=?\n",
    "#solution:-\n",
    "z=stats.norm.isf(0.025)\n",
    "me=(z*sigma)/(n**0.5)\n",
    "print('The marginal of error for 95% confidence is',round(me))"
   ]
  },
  {
   "cell_type": "markdown",
   "metadata": {
    "collapsed": true
   },
   "source": [
    "<table align=\"left\">\n",
    "    <tr>\n",
    "        <td width=\"6%\">\n",
    "            <img src=\"question_icon.png\">\n",
    "        </td>\n",
    "        <td>\n",
    "            <div align=\"left\", style=\"font-size:120%\">\n",
    "                <font color=\"#21618C\">\n",
    "                    <b>5. To study the climate changes, a sample of data of temperature in California is collected for 20 summer days. Calculate 95% confidence interval for the population mean temperature.</b>\n",
    "                </font>\n",
    "            </div>\n",
    "        </td>\n",
    "    </tr>\n",
    "</table>"
   ]
  },
  {
   "cell_type": "markdown",
   "metadata": {},
   "source": [
    "Use the data given below:\n",
    "        \n",
    "            temp (in F) = [51, 68, 83, 93, 89, 58, 79, 54, 60, 77, 87, 57, 63, 85, 92, 74, 67, 88, 91, 82]"
   ]
  },
  {
   "cell_type": "code",
   "execution_count": 16,
   "metadata": {},
   "outputs": [
    {
     "name": "stdout",
     "output_type": "stream",
     "text": [
      "[51, 68, 83, 93, 89, 58, 79, 54, 60, 77, 87, 57, 63, 85, 92, 74, 67, 88, 91, 82]\n"
     ]
    }
   ],
   "source": [
    "temp=[51, 68, 83, 93, 89, 58, 79, 54, 60, 77, 87, 57, 63, 85, 92, 74, 67, 88, 91, 82]\n",
    "print(temp)"
   ]
  },
  {
   "cell_type": "code",
   "execution_count": 17,
   "metadata": {},
   "outputs": [
    {
     "name": "stdout",
     "output_type": "stream",
     "text": [
      "1.7291328115213678 69.62416104723232 80.17583895276769\n"
     ]
    }
   ],
   "source": [
    "# type your code here\n",
    "\n",
    "n=len(temp)\n",
    "x_bar=np.mean(temp)\n",
    "s=np.std(temp) #sample standard deviation\n",
    "confidence_interval=0.95\n",
    "\n",
    "t=stats.t.isf(0.05,df=n-1)\n",
    "ll=x_bar-(t*(s/n**0.5))\n",
    "ul=x_bar+(t*(s/n**0.5))\n",
    "print(t,ll,ul)"
   ]
  },
  {
   "cell_type": "markdown",
   "metadata": {},
   "source": [
    "##### INFERENCE:-\n",
    "     For 95% confidence interval the population mean temperature is from 69.62 to 80.176"
   ]
  },
  {
   "cell_type": "markdown",
   "metadata": {
    "collapsed": true
   },
   "source": [
    "<table align=\"left\">\n",
    "    <tr>\n",
    "        <td width=\"6%\">\n",
    "            <img src=\"question_icon.png\">\n",
    "        </td>\n",
    "        <td>\n",
    "            <div align=\"left\", style=\"font-size:120%\">\n",
    "                <font color=\"#21618C\">\n",
    "                    <b>6. A botanical garden in Manchester city planted 350 plant seeds of white, pink and blue lily in the last summer. After 3 months a sample of 125 plants was selected, out of which 80 plants were found to be of pink lilies. Find a 90% confidence interval for the population proportion of pink lily plants.</b>\n",
    "                </font>\n",
    "            </div>\n",
    "        </td>\n",
    "    </tr>\n",
    "</table>"
   ]
  },
  {
   "cell_type": "code",
   "execution_count": 23,
   "metadata": {},
   "outputs": [
    {
     "name": "stdout",
     "output_type": "stream",
     "text": [
      "0.64 1.6448536269514729 0.569382313160309 0.7106176868396911\n"
     ]
    }
   ],
   "source": [
    "# type your code here\n",
    "n=125\n",
    "ps=80/125\n",
    "z=stats.norm.isf(0.05)\n",
    "ll=ps-(z*np.sqrt((ps*(1-ps))/n))\n",
    "ul=ps+(z*np.sqrt((ps*(1-ps))/n))\n",
    "print(ps,z,ll,ul)"
   ]
  },
  {
   "cell_type": "code",
   "execution_count": 24,
   "metadata": {},
   "outputs": [
    {
     "data": {
      "text/plain": [
       "(0.569382313160309, 0.710617686839691)"
      ]
     },
     "execution_count": 24,
     "metadata": {},
     "output_type": "execute_result"
    }
   ],
   "source": [
    "stats.norm.interval(loc=ps,scale=np.sqrt((ps*(1-ps))/n),alpha=0.9)"
   ]
  },
  {
   "cell_type": "markdown",
   "metadata": {},
   "source": [
    "##### INFERENCE:-\n",
    "    For 90% confidence interval the population proportion of pink lily plants is from 0.56 to 0.71"
   ]
  },
  {
   "cell_type": "markdown",
   "metadata": {
    "collapsed": true
   },
   "source": [
    "<table align=\"left\">\n",
    "    <tr>\n",
    "        <td width=\"6%\">\n",
    "            <img src=\"question_icon.png\">\n",
    "        </td>\n",
    "        <td>\n",
    "            <div align=\"left\", style=\"font-size:120%\">\n",
    "                <font color=\"#21618C\">\n",
    "                    <b>7. The quality assurance department claims that on average the non-fat yogurt contains less than 148 mg of potassium per 100 g pack. To check this claim 35 packs of yogurt are collected and the content of potassium is recorded. Can we use the Z-test to test the claim of the quality assurance department?\n",
    "</b>\n",
    "                </font>\n",
    "            </div>\n",
    "        </td>\n",
    "    </tr>\n",
    "</table>"
   ]
  },
  {
   "cell_type": "markdown",
   "metadata": {},
   "source": [
    "Use the data given below:\n",
    "        \n",
    "        pot_mg = [151, 159, 168, 146, 129, 147, 149, 141, 150, 158, 119, 125, 139, 154, 163, 156, 132, 137, 126, 152,\n",
    "                  127, 135, 138, 145, 128, 148, 153, 124, 170, 134, 157, 164, 144, 160, 161]\n"
   ]
  },
  {
   "cell_type": "code",
   "execution_count": 27,
   "metadata": {},
   "outputs": [],
   "source": [
    "pot_mg = [151, 159, 168, 146, 129, 147, 149, 141, 150, 158, 119, 125, 139, 154, 163, 156, 132, 137, 126, 152,\n",
    "              127, 135, 138, 145, 128, 148, 153, 124, 170, 134, 157, 164, 144, 160, 161]"
   ]
  },
  {
   "cell_type": "code",
   "execution_count": 28,
   "metadata": {},
   "outputs": [
    {
     "name": "stdout",
     "output_type": "stream",
     "text": [
      "-1.1259134501814998\n"
     ]
    }
   ],
   "source": [
    "# type your code here\n",
    "#STEP1:-CREATION OF HYPOTHESIS\n",
    "#H0=148\n",
    "#Ha!=148\n",
    "\n",
    "#STEP2:-\n",
    "#1.POPULATION STANDARD DEVIATION IS KNOWN\n",
    "#2.DATA IS NORMAL\n",
    "\n",
    "#ONE SAMPLE ZTEST CAN BE APPLIED\n",
    "#STEP3:-TEST STATISTICS:\n",
    "mu=148\n",
    "n=len(pot_mg)\n",
    "x_bar=np.mean(pot_mg)\n",
    "s=np.std(pot_mg)\n",
    "z=(x_bar-mu)/(s/n**0.5)\n",
    "print(z)"
   ]
  },
  {
   "cell_type": "code",
   "execution_count": 29,
   "metadata": {},
   "outputs": [
    {
     "data": {
      "text/plain": [
       "0.2602021556247346"
      ]
     },
     "execution_count": 29,
     "metadata": {},
     "output_type": "execute_result"
    }
   ],
   "source": [
    "pval=stats.norm.sf(abs(z))*2\n",
    "pval"
   ]
  },
  {
   "cell_type": "code",
   "execution_count": null,
   "metadata": {},
   "outputs": [],
   "source": [
    "#STEP4:-\n",
    "#SIGNIFICANCE LEVEL=0.05\n",
    "#P-VALUE=0.2602021556247346\n",
    "#P-VALUE>SIGNIFICANCE LEVEL H0 is selected,Ha is Rejected i.e pot_mg is less than 148mg"
   ]
  },
  {
   "cell_type": "markdown",
   "metadata": {},
   "source": [
    "##### INFERENCE:-\n",
    "    The quality assurance department claim of average non-fat yogurt contains less than 148 mg of potassium per 100g pack is correct."
   ]
  },
  {
   "cell_type": "markdown",
   "metadata": {
    "collapsed": true
   },
   "source": [
    "<table align=\"left\">\n",
    "    <tr>\n",
    "        <td width=\"6%\">\n",
    "            <img src=\"question_icon.png\">\n",
    "        </td>\n",
    "        <td>\n",
    "            <div align=\"left\", style=\"font-size:120%\">\n",
    "                <font color=\"#21618C\">\n",
    "                    <b>8. The quality assurance department claims that on average the non-fat yogurt contains less than 148 mg of potassium per 100 g pack. To check this claim 35 packs of yogurt are collected and the content of potassium is recorded with population standard deviation of 13.86. Use 0.05 as a level of significance to test the claim using p-value technique.   \n",
    "</b>\n",
    "                </font>\n",
    "            </div>\n",
    "        </td>\n",
    "    </tr>\n",
    "</table>"
   ]
  },
  {
   "cell_type": "markdown",
   "metadata": {},
   "source": [
    "Use the data given below:\n",
    "        \n",
    "          pot_mg = [151, 159, 168, 146, 129, 147, 149, 141, 150, 158, 119, 125, 139, 154, 163, 156, 132, 137, 126, 152,\n",
    "                    127, 135, 138, 145, 128, 148, 153, 124, 170, 134, 157, 164, 144, 160, 161]"
   ]
  },
  {
   "cell_type": "code",
   "execution_count": 30,
   "metadata": {},
   "outputs": [],
   "source": [
    "pot_mg = [151, 159, 168, 146, 129, 147, 149, 141, 150, 158, 119, 125, 139, 154, 163, 156, 132, 137, 126, 152,\n",
    "                    127, 135, 138, 145, 128, 148, 153, 124, 170, 134, 157, 164, 144, 160, 161]"
   ]
  },
  {
   "cell_type": "code",
   "execution_count": 32,
   "metadata": {},
   "outputs": [
    {
     "name": "stdout",
     "output_type": "stream",
     "text": [
      "-1.109798516310171\n"
     ]
    }
   ],
   "source": [
    "# type your code here\n",
    "#STEP1:-CREATION OF HYPOTHESIS\n",
    "#H0=148\n",
    "#Ha!=148\n",
    "\n",
    "#STEP2:-\n",
    "#1.POPULATION STANDARD DEVIATION IS KNOWN\n",
    "#2.DATA IS NORMAL\n",
    "\n",
    "#ONE SAMPLE ZTEST CAN BE APPLIED\n",
    "#STEP3:-TEST STATISTICS:\n",
    "mu=148\n",
    "n=len(pot_mg)\n",
    "sigma=13.86\n",
    "x_bar=np.mean(pot_mg)\n",
    "\n",
    "z=(x_bar-mu)/(sigma/n**0.5)\n",
    "print(z)"
   ]
  },
  {
   "cell_type": "code",
   "execution_count": 33,
   "metadata": {},
   "outputs": [
    {
     "data": {
      "text/plain": [
       "0.267085858805309"
      ]
     },
     "execution_count": 33,
     "metadata": {},
     "output_type": "execute_result"
    }
   ],
   "source": [
    "pval=stats.norm.sf(abs(z))*2\n",
    "pval"
   ]
  },
  {
   "cell_type": "code",
   "execution_count": 34,
   "metadata": {},
   "outputs": [],
   "source": [
    "#STEP4:-\n",
    "#SIGNIFICANCE LEVEL=0.05\n",
    "#P-VALUE=0.267085858805309\n",
    "#P-VALUE>SIGNIFICANCE LEVEL H0 is selected,Ha is Rejected i.e pot_mg is less than 148mg"
   ]
  },
  {
   "cell_type": "markdown",
   "metadata": {},
   "source": [
    "##### INFERENCE:-\n",
    "    The quality assurance department claim of average non-fat yogurt contains less than 148 mg of potassium per 100g pack is correct."
   ]
  },
  {
   "cell_type": "markdown",
   "metadata": {
    "collapsed": true
   },
   "source": [
    "<table align=\"left\">\n",
    "    <tr>\n",
    "        <td width=\"6%\">\n",
    "            <img src=\"question_icon.png\">\n",
    "        </td>\n",
    "        <td>\n",
    "            <div align=\"left\", style=\"font-size:120%\">\n",
    "                <font color=\"#21618C\">\n",
    "                    <b>9. The production manager at the Xen Sewing Factory claims that on average the diameter of a class 14M bobbin is less than 18 mm. The previous study shows that the population standard deviation is 1.7 mm. Consider a sample of 40 class 14M bobbins from a normally distributed population with sample mean diameter as 17.5 mm. Use 0.05 as a level of significance to test the claim using p-value technique. \n",
    "</b>\n",
    "                </font>\n",
    "            </div>\n",
    "        </td>\n",
    "    </tr>\n",
    "</table>"
   ]
  },
  {
   "cell_type": "code",
   "execution_count": 36,
   "metadata": {},
   "outputs": [
    {
     "name": "stdout",
     "output_type": "stream",
     "text": [
      "-1.8601633295108115\n"
     ]
    }
   ],
   "source": [
    "# type your code here\n",
    "#STEP1:-CREATION OF HYPOTHESIS\n",
    "#H0=18\n",
    "#Ha!=18\n",
    "\n",
    "#STEP2:-\n",
    "#1.POPULATION STANDARD DEVIATION IS KNOWN\n",
    "#2.DATA IS NORMAL\n",
    "\n",
    "#ONE SAMPLE ZTEST CAN BE APPLIED\n",
    "#STEP3:-TEST STATISTICS:\n",
    "mu=18\n",
    "sigma=1.7\n",
    "n=40\n",
    "x_bar=17.5\n",
    "\n",
    "z=(x_bar-mu)/(sigma/n**0.5)\n",
    "print(z)"
   ]
  },
  {
   "cell_type": "code",
   "execution_count": 37,
   "metadata": {},
   "outputs": [
    {
     "data": {
      "text/plain": [
       "0.06286242148355803"
      ]
     },
     "execution_count": 37,
     "metadata": {},
     "output_type": "execute_result"
    }
   ],
   "source": [
    "pval=stats.norm.sf(abs(z))*2\n",
    "pval"
   ]
  },
  {
   "cell_type": "code",
   "execution_count": null,
   "metadata": {},
   "outputs": [],
   "source": [
    "#STEP4:-\n",
    "#SIGNIFICANCE LEVEL=0.05\n",
    "#P-VALUE=0.06286242148355803\n",
    "#P-VALUE>SIGNIFICANCE LEVEL H0 is selected,Ha is Rejected i.e the average diameter of a class 14M bobbin is less than 18 mm"
   ]
  },
  {
   "cell_type": "markdown",
   "metadata": {},
   "source": [
    "##### INFERENCE:-\n",
    "    The average diameter of a class 14M bobbin is less than 18 mm"
   ]
  }
 ],
 "metadata": {
  "kernelspec": {
   "display_name": "Python 3",
   "language": "python",
   "name": "python3"
  },
  "language_info": {
   "codemirror_mode": {
    "name": "ipython",
    "version": 3
   },
   "file_extension": ".py",
   "mimetype": "text/x-python",
   "name": "python",
   "nbconvert_exporter": "python",
   "pygments_lexer": "ipython3",
   "version": "3.7.4"
  }
 },
 "nbformat": 4,
 "nbformat_minor": 2
}
