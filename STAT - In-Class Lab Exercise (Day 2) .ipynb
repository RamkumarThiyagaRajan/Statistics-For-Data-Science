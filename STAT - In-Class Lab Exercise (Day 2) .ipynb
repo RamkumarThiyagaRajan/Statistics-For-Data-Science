{
 "cells": [
  {
   "cell_type": "markdown",
   "metadata": {
    "colab_type": "text",
    "id": "0yzl3MKzf98L"
   },
   "source": [
    "<table align=\"center\" width=100%>\n",
    "    <tr>\n",
    "        <td width=\"10%\">\n",
    "            <img src=\"in_class.png\">\n",
    "        </td>\n",
    "        <td>\n",
    "            <div align=\"center\">\n",
    "                <font color=\"#21618C\" size=8px>\n",
    "                    <b> Inclass-Lab  <br>(Day 2)\n",
    "                    </b>\n",
    "                </font>\n",
    "            </div>\n",
    "        </td>\n",
    "    </tr>\n",
    "</table>"
   ]
  },
  {
   "cell_type": "markdown",
   "metadata": {},
   "source": [
    "## Table of Content\n",
    "\n",
    "1. **[Parameter Estimation](#est)**\n",
    "2. **[Hypothesis Tests with Z Statistic](#eg)**\n"
   ]
  },
  {
   "cell_type": "markdown",
   "metadata": {},
   "source": [
    "**Import the required libraries**"
   ]
  },
  {
   "cell_type": "code",
   "execution_count": 1,
   "metadata": {},
   "outputs": [],
   "source": [
    "# type your code here\n",
    "import numpy as np\n",
    "import pandas as pd\n",
    "import seaborn as sns\n",
    "import scipy.stats as stats"
   ]
  },
  {
   "cell_type": "markdown",
   "metadata": {
    "colab_type": "text",
    "id": "psOYFu6zf98N"
   },
   "source": [
    "### Let's begin with some hands-on practice exercises"
   ]
  },
  {
   "cell_type": "markdown",
   "metadata": {
    "colab_type": "text",
    "id": "r4J-iIEhf98N"
   },
   "source": [
    "<a id = \"est\"> </a>\n",
    "## 1. Parameter Estimation"
   ]
  },
  {
   "cell_type": "markdown",
   "metadata": {
    "colab_type": "text",
    "id": "77vuf1DVf98O"
   },
   "source": [
    "<table align=\"left\">\n",
    "    <tr>\n",
    "        <td width=\"6%\">\n",
    "            <img src=\"question_icon.png\">\n",
    "        </td>\n",
    "        <td>\n",
    "            <div align=\"left\", style=\"font-size:120%\">\n",
    "                <font color=\"#21618C\">\n",
    "                    <b>1. The quality controller at the automobile company needs to know the average length of a steel rod produced in the company. He managed to collect the length (in cm) of 15 rods produced in the last week. Find the point estimate for the average length of the steel rod using sample data. </b>\n",
    "                </font>\n",
    "            </div>\n",
    "        </td>\n",
    "    </tr>\n",
    "</table>"
   ]
  },
  {
   "cell_type": "markdown",
   "metadata": {},
   "source": [
    "Given data:\n",
    "\n",
    "        len_rod (cm) = [25.2, 26.3, 28, 21.9, 23.4, 24, 27.2, 23, 29.2, 28.7, 23.1, 23.5, 26.4, 22.8, 24.7]"
   ]
  },
  {
   "cell_type": "code",
   "execution_count": 34,
   "metadata": {},
   "outputs": [
    {
     "name": "stdout",
     "output_type": "stream",
     "text": [
      "25.16\n",
      "[26.4 23.  25.2 23.5 28.7 23.5 28.  23.5 23.4 26.4 26.3 25.2 28.7 28.7\n",
      " 21.9]\n",
      "25.493333333333332\n"
     ]
    }
   ],
   "source": [
    "mu_true=np.mean(len_rod)\n",
    "sample=np.random.choice(len_rod,size=15,replace=True)\n",
    "print(mu_true)\n",
    "print(sample)\n",
    "x_bar=np.mean(sample)\n",
    "print(x_bar)"
   ]
  },
  {
   "cell_type": "code",
   "execution_count": 35,
   "metadata": {},
   "outputs": [
    {
     "name": "stdout",
     "output_type": "stream",
     "text": [
      "25.16\n",
      "[25.2 24.  29.2 24.7 27.2 26.3 23.  23.4 28.  23.1 26.4 21.9 28.7 23.5\n",
      " 22.8]\n",
      "25.16\n"
     ]
    }
   ],
   "source": [
    "mu_true=np.mean(len_rod)\n",
    "sample=np.random.choice(len_rod,size=15,replace=False)\n",
    "print(mu_true)\n",
    "print(sample)\n",
    "x_bar=np.mean(sample)\n",
    "print(x_bar)"
   ]
  },
  {
   "cell_type": "markdown",
   "metadata": {
    "colab_type": "text",
    "id": "9qnEEhR4f98X"
   },
   "source": [
    "<table align=\"left\">\n",
    "    <tr>\n",
    "        <td width=\"6%\">\n",
    "            <img src=\"question_icon.png\">\n",
    "        </td>\n",
    "        <td>\n",
    "            <div align=\"left\", style=\"font-size:120%\">\n",
    "                <font color=\"#21618C\">\n",
    "                    <b>2. The production manager at the automobile company states that all the steel rods are produced with an average length of 26 cm. Use the data given in the previous question and calculate the sampling error and the standard error.</b>\n",
    "                </font>\n",
    "            </div>\n",
    "        </td>\n",
    "    </tr>\n",
    "</table>"
   ]
  },
  {
   "cell_type": "markdown",
   "metadata": {},
   "source": [
    "Given data:\n",
    "\n",
    "        len_rod (cm) = [25.2, 26.3, 28, 21.9, 23.4, 24, 27.2, 23, 29.2, 28.7, 23.1, 23.5, 26.4, 22.8, 24.7]"
   ]
  },
  {
   "cell_type": "code",
   "execution_count": 3,
   "metadata": {},
   "outputs": [],
   "source": [
    "len_rod=[25.2, 26.3, 28, 21.9, 23.4, 24, 27.2, 23, 29.2, 28.7, 23.1, 23.5, 26.4, 22.8, 24.7]"
   ]
  },
  {
   "cell_type": "markdown",
   "metadata": {},
   "source": [
    "##### SAMPLING ERROR:-"
   ]
  },
  {
   "cell_type": "code",
   "execution_count": 10,
   "metadata": {},
   "outputs": [
    {
     "name": "stdout",
     "output_type": "stream",
     "text": [
      "[24.  29.2 23.5 29.2 28.7 28.  28.  23.5 23.4 29.2 22.8 23.4 24.  24.7\n",
      " 26.3]\n",
      "sampling Error:- 0.7000000000000028\n"
     ]
    }
   ],
   "source": [
    "# type your code here\n",
    "#Sampling Error:-\n",
    "mu_true=np.mean(len_rod)\n",
    "sample=np.random.choice(len_rod,size=15,replace=True)\n",
    "print(sample)\n",
    "x_bar=np.mean(sample)\n",
    "sampling_error=abs(mu_true-x_bar)\n",
    "print('sampling Error:-',sampling_error)"
   ]
  },
  {
   "cell_type": "code",
   "execution_count": 8,
   "metadata": {},
   "outputs": [
    {
     "name": "stdout",
     "output_type": "stream",
     "text": [
      "[27.2 26.4 28.7 23.1 26.3 29.2 23.4 21.9 28.  23.  23.5 24.7 25.2 24.\n",
      " 22.8]\n",
      "sampling Error:- 0.0\n"
     ]
    }
   ],
   "source": [
    "mu_true=np.mean(len_rod)\n",
    "sample=np.random.choice(len_rod,size=15,replace=False)\n",
    "print(sample)\n",
    "x_bar=np.mean(sample)\n",
    "sampling_error=abs(mu_true-x_bar)\n",
    "print('sampling Error:-',sampling_error)"
   ]
  },
  {
   "cell_type": "markdown",
   "metadata": {},
   "source": [
    "##### STANDARD ERROR:-"
   ]
  },
  {
   "cell_type": "code",
   "execution_count": 12,
   "metadata": {},
   "outputs": [
    {
     "name": "stdout",
     "output_type": "stream",
     "text": [
      "Standard Error: 0.5828512293506427\n",
      "Standard Error With Approaximation: 0.6610093292332063\n"
     ]
    }
   ],
   "source": [
    "sigma=np.std(len_rod) #population standard Deviation\n",
    "s=np.std(sample,ddof=1) #sample Standard Deviation #numpy we have to give ddof=1 but pandas we don't need ddof\n",
    "n=len(sample)\n",
    "print('Standard Error:',sigma/(n**0.5))\n",
    "print('Standard Error With Approaximation:',s/(n**0.5))"
   ]
  },
  {
   "cell_type": "markdown",
   "metadata": {
    "colab_type": "text",
    "id": "YIaQZc58f98p"
   },
   "source": [
    "<table align=\"left\">\n",
    "    <tr>\n",
    "        <td width=\"6%\">\n",
    "            <img src=\"question_icon.png\">\n",
    "        </td>\n",
    "        <td>\n",
    "            <div align=\"left\", style=\"font-size:120%\">\n",
    "                <font color=\"#21618C\">\n",
    "                    <b>3. The bank manager has received several fraud complaints from past a few weeks. The report from accountant states that the standard deviation in frauds is 16. The manager is ready to consider the margin of error as 5. To estimate the average number of frauds with 90% confidence how many transactions should the manager consider?</b>\n",
    "                </font>\n",
    "            </div>\n",
    "        </td>\n",
    "    </tr>\n",
    "</table>"
   ]
  },
  {
   "cell_type": "code",
   "execution_count": 13,
   "metadata": {},
   "outputs": [
    {
     "name": "stdout",
     "output_type": "stream",
     "text": [
      "1.6448536269514729  28.0\n"
     ]
    }
   ],
   "source": [
    "# type your code here\n",
    "sigma=16\n",
    "me=5\n",
    "z=stats.norm.isf(0.05)\n",
    "\n",
    "n=((z*sigma)/me)**2\n",
    "print(z,'',round(n))"
   ]
  },
  {
   "cell_type": "markdown",
   "metadata": {},
   "source": [
    "##### INFERENCE:-\n",
    "    The average number of frauds with 90% confidence is 28"
   ]
  },
  {
   "cell_type": "markdown",
   "metadata": {
    "colab_type": "text",
    "id": "iZkGr2rTf98y"
   },
   "source": [
    "<table align=\"left\">\n",
    "    <tr>\n",
    "        <td width=\"6%\">\n",
    "            <img src=\"question_icon.png\">\n",
    "        </td>\n",
    "        <td>\n",
    "            <div align=\"left\", style=\"font-size:120%\">\n",
    "                <font color=\"#21618C\">\n",
    "                    <b>4. The physical trainer at a university wants to estimate the average height of students at the university. The trainer collects the data of 100 students and found that the average height is 168 cm with population standard deviation of 12 cm. Find the 95% confidence interval for the population average height.</b>\n",
    "                </font>\n",
    "            </div>\n",
    "        </td>\n",
    "    </tr>\n",
    "</table>"
   ]
  },
  {
   "cell_type": "code",
   "execution_count": 14,
   "metadata": {},
   "outputs": [
    {
     "name": "stdout",
     "output_type": "stream",
     "text": [
      "165.64804321855195 170.35195678144805\n"
     ]
    }
   ],
   "source": [
    "# type your code here\n",
    "n=100\n",
    "x_bar=168\n",
    "sigma=12#population standard deviation is known so z stats\n",
    "confidence_interval=0.95\n",
    "z=stats.norm.isf(0.025)\n",
    "ll=x_bar-(z*(sigma/(n**0.5)))\n",
    "ul=x_bar+(z*(sigma/(n**0.5)))\n",
    "print(ll,ul)"
   ]
  },
  {
   "cell_type": "markdown",
   "metadata": {},
   "source": [
    "##### INFERENCE:-\n",
    "    For 95% confidence interval the population average height is from 165.65cm to 170.35cm"
   ]
  },
  {
   "cell_type": "markdown",
   "metadata": {
    "colab_type": "text",
    "id": "iOS1kKjWf983"
   },
   "source": [
    "<table align=\"left\">\n",
    "    <tr>\n",
    "        <td width=\"6%\">\n",
    "            <img src=\"question_icon.png\">\n",
    "        </td>\n",
    "        <td>\n",
    "            <div align=\"left\", style=\"font-size:120%\">\n",
    "                <font color=\"#21618C\">\n",
    "                    <b>5. The health magazine in Los Angeles states that a person should drink 1.8 L water every day. To study this statement, the physician collects the data of 15 people and found that the average water intake for these people is 1.6 L with a standard deviation of 0.5 L. Calculate the 90% confidence interval for the population average water intake.</b>\n",
    "                </font>\n",
    "            </div>\n",
    "        </td>\n",
    "    </tr>\n",
    "</table>"
   ]
  },
  {
   "cell_type": "code",
   "execution_count": 17,
   "metadata": {},
   "outputs": [
    {
     "name": "stdout",
     "output_type": "stream",
     "text": [
      "1.7613101357748564 1.3726158392212553 1.8273841607787449\n"
     ]
    }
   ],
   "source": [
    "# type your code here\n",
    "n=15\n",
    "x_bar=1.6\n",
    "s=0.5 #sample standard deviation,so t-stats\n",
    "confidence_interval=0.9\n",
    "t=stats.t.isf(0.05,df=n-1)\n",
    "ll=x_bar-(t*(s/n**0.5))\n",
    "ul=x_bar+(t*(s/n**0.5))\n",
    "print(t,ll,ul)"
   ]
  },
  {
   "cell_type": "markdown",
   "metadata": {},
   "source": [
    "##### INFERENCE:-\n",
    "    For 90% confidence interval the population average water intake is from 1.37L to 1.82L Every Day"
   ]
  },
  {
   "cell_type": "markdown",
   "metadata": {
    "colab_type": "text",
    "id": "V7QJT8W9f98T"
   },
   "source": [
    "<table align=\"left\">\n",
    "    <tr>\n",
    "        <td width=\"6%\">\n",
    "            <img src=\"question_icon.png\">\n",
    "        </td>\n",
    "        <td>\n",
    "            <div align=\"left\", style=\"font-size:120%\">\n",
    "                <font color=\"#21618C\">\n",
    "                    <b>6. The NY university has opened the post of Astrophysics professor. The total number of applications was 36. To check the authenticity of the applicants a sample of 10 applications was collected, out of which 3 applicants were found to be a fraud. Construct the 95% confidence interval for the population proportion.</b>\n",
    "                </font>\n",
    "            </div>\n",
    "        </td>\n",
    "    </tr>\n",
    "</table>"
   ]
  },
  {
   "cell_type": "code",
   "execution_count": 18,
   "metadata": {},
   "outputs": [
    {
     "name": "stdout",
     "output_type": "stream",
     "text": [
      "0.3 2.575829303548901 -0.07327312871601876 0.6732731287160187\n"
     ]
    }
   ],
   "source": [
    "# type your code here\n",
    "n=10\n",
    "ps=3/10\n",
    "z=stats.norm.isf(0.005)\n",
    "ll=ps-(z*np.sqrt((ps*(1-ps))/n))\n",
    "ul=ps+(z*np.sqrt((ps*(1-ps))/n))\n",
    "print(ps,z,ll,ul)"
   ]
  },
  {
   "cell_type": "markdown",
   "metadata": {},
   "source": [
    "##### INFERENCE:-\n",
    "    For 95% confidence interval the applicants found to be a fraud is from -0.07 to 0.67"
   ]
  },
  {
   "cell_type": "markdown",
   "metadata": {
    "colab_type": "text",
    "id": "QLSslfFdf98b"
   },
   "source": [
    "<a id = \"eg\"> </a>\n",
    "## 2. Hypothesis Tests with Z Statistic"
   ]
  },
  {
   "cell_type": "markdown",
   "metadata": {
    "colab_type": "text",
    "id": "XID79y2_f99O"
   },
   "source": [
    "<table align=\"left\">\n",
    "    <tr>\n",
    "        <td width=\"6%\">\n",
    "            <img src=\"question_icon.png\">\n",
    "        </td>\n",
    "        <td>\n",
    "            <div align=\"left\", style=\"font-size:120%\">\n",
    "                <font color=\"#21618C\">\n",
    "                    <b>7.  The weather department claims that the average temperature in Manhattan is less than 2.8 degree celsius in winter with population standard deviation as 0.7. Test the department's claim with 99% confidence.Assume data is normal.</b>\n",
    "                </font>\n",
    "            </div>\n",
    "        </td>\n",
    "    </tr>\n",
    "</table>"
   ]
  },
  {
   "cell_type": "markdown",
   "metadata": {},
   "source": [
    "Use the data given below:\n",
    "        \n",
    "    temp_winter =  [2.51, 2.6, 1.8, 2.61, 3.9, 1.7, 1.9, 3.1, 1.58, 2.85, 2.9, 1.25, 1.3, 2.4, 3.22, 2.56, 1.32, 1.2, 1.26, \n",
    "                    3.2, 2.7, 3.5, 2.8, 1.5, 3.8, 1.84, 3.31, 1.24, 1.75, 1.41, 1.57, 1.4, 1.49, 2.26, 2.5, 2.52, 3.42, 1.36, \n",
    "                    2.35, 2.47, 2.28, 2.22, 2.66, 3.43, 1.98]"
   ]
  },
  {
   "cell_type": "code",
   "execution_count": 20,
   "metadata": {},
   "outputs": [],
   "source": [
    "temp_winter=[2.51, 2.6, 1.8, 2.61, 3.9, 1.7, 1.9, 3.1, 1.58, 2.85, 2.9, 1.25, 1.3, 2.4, 3.22, 2.56, 1.32, 1.2, 1.26, \n",
    "                3.2, 2.7, 3.5, 2.8, 1.5, 3.8, 1.84, 3.31, 1.24, 1.75, 1.41, 1.57, 1.4, 1.49, 2.26, 2.5, 2.52, 3.42, 1.36, \n",
    "                2.35, 2.47, 2.28, 2.22, 2.66, 3.43, 1.98]"
   ]
  },
  {
   "cell_type": "code",
   "execution_count": 26,
   "metadata": {},
   "outputs": [
    {
     "name": "stdout",
     "output_type": "stream",
     "text": [
      "2.2871111111111113\n",
      "-4.915090373399535\n"
     ]
    }
   ],
   "source": [
    "# type your code here\n",
    "#STEP1:-HYPOTHESIS FORMATION\n",
    "#H0:MU(AVG MILAGE)=2.8\n",
    "#Ha:MU(AVG MILAGE)!=2.8\n",
    "\n",
    "#STEP2:\n",
    "#1)POPULATION STANDARD DEVIATION IS KNOWN\n",
    "#2)DATA IS NORMAL\n",
    "\n",
    "#ONE SAMPLE Z TEST CAN BE APPLIED\n",
    "\n",
    "#STEP3:TEST STATISTICS\n",
    "x_bar=np.mean(temp_winter)\n",
    "print(x_bar)\n",
    "mu=2.8\n",
    "sigma=0.7\n",
    "n=len(temp_winter)\n",
    "z=(x_bar-mu)/(sigma/n**0.5)\n",
    "print(z)"
   ]
  },
  {
   "cell_type": "code",
   "execution_count": 22,
   "metadata": {},
   "outputs": [
    {
     "data": {
      "text/plain": [
       "8.874151373445885e-07"
      ]
     },
     "execution_count": 22,
     "metadata": {},
     "output_type": "execute_result"
    }
   ],
   "source": [
    "pval=stats.norm.sf(abs(z))*2\n",
    "pval"
   ]
  },
  {
   "cell_type": "code",
   "execution_count": null,
   "metadata": {},
   "outputs": [],
   "source": [
    "#STEP4:-\n",
    "#SIGNIFICANCE LEVEL=0.01\n",
    "#P-VALUE=8.874151373445885e-07\n",
    "#P-VALUE<SIGNIFICANCE LEVEL H0 IS REJECTED,Ha IS SELECTED i.e the average temperature in Manhattan is not 2.8 degree celsius\n",
    "\n",
    "#MU>X_BAR=>Z is -ve"
   ]
  },
  {
   "cell_type": "markdown",
   "metadata": {},
   "source": [
    "##### INFERENCE:-\n",
    "    The weatherdepartment claim of the average temperature in Manhattan is less than 2.8 degree celsius in winter is correct"
   ]
  },
  {
   "cell_type": "markdown",
   "metadata": {
    "colab_type": "text",
    "id": "9qnEEhR4f98X"
   },
   "source": [
    "<table align=\"left\">\n",
    "    <tr>\n",
    "        <td width=\"6%\">\n",
    "            <img src=\"question_icon.png\">\n",
    "        </td>\n",
    "        <td>\n",
    "            <div align=\"left\", style=\"font-size:120%\">\n",
    "                <font color=\"#21618C\">\n",
    "                    <b>8. The production manager at the automobile company states that all the steel rods are produced with an average length of 26 cm and a standard deviation of 2.4 cm. The length of 60 rods is collected as a sample and the average length of these rods is found to be 24.8 cm. Test whether the length of the rod is different than 26 cm with a 95% confidence level.Assume data is normal </b>\n",
    "                </font>\n",
    "            </div>\n",
    "        </td>\n",
    "    </tr>\n",
    "</table>"
   ]
  },
  {
   "cell_type": "code",
   "execution_count": 25,
   "metadata": {},
   "outputs": [
    {
     "name": "stdout",
     "output_type": "stream",
     "text": [
      "-3.872983346207415\n"
     ]
    }
   ],
   "source": [
    "# type your code here\n",
    "#STEP1:-HYPOTHESIS FORMATION\n",
    "#H0:MU(AVG MILAGE)=26\n",
    "#Ha:MU(AVG MILAGE)!=26\n",
    "\n",
    "#STEP2:\n",
    "#1)POPULATION STANDARD DEVIATION IS KNOWN\n",
    "#2)DATA IS NORMAL\n",
    "\n",
    "#ONE SAMPLE Z TEST CAN BE APPLIED\n",
    "\n",
    "#STEP3:TEST STATISTICS\n",
    "mu=26\n",
    "sigma=2.4\n",
    "n=60\n",
    "x_bar=24.8\n",
    "z=(x_bar-mu)/(sigma/n**0.5)\n",
    "print(z)"
   ]
  },
  {
   "cell_type": "code",
   "execution_count": 24,
   "metadata": {},
   "outputs": [
    {
     "data": {
      "text/plain": [
       "0.00010751117672950135"
      ]
     },
     "execution_count": 24,
     "metadata": {},
     "output_type": "execute_result"
    }
   ],
   "source": [
    "pval=stats.norm.sf(abs(z))*2\n",
    "pval"
   ]
  },
  {
   "cell_type": "code",
   "execution_count": null,
   "metadata": {},
   "outputs": [],
   "source": [
    "#STEP4:-\n",
    "#SIGNIFICANCE LEVEL=0.05\n",
    "#P-VALUE=0.00010751117672950135\n",
    "#P-VALUE<SIGNIFICANCE LEVEL so H0 IS REJECTED,Ha IS SELECTED i.e average length of all steel rod is not 26 cm\n",
    "\n",
    "#MU>X_BAR=>Z is -ve,hence average length of all steel rod is less than 26 cm"
   ]
  },
  {
   "cell_type": "markdown",
   "metadata": {},
   "source": [
    "##### INFERENCE:-\n",
    "    The average length of all steel rod is less than 26 cm"
   ]
  },
  {
   "cell_type": "markdown",
   "metadata": {
    "collapsed": true
   },
   "source": [
    "<table align=\"left\">\n",
    "    <tr>\n",
    "        <td width=\"6%\">\n",
    "            <img src=\"question_icon.png\">\n",
    "        </td>\n",
    "        <td>\n",
    "            <div align=\"left\", style=\"font-size:120%\">\n",
    "                <font color=\"#21618C\">\n",
    "                    <b>9. The physician at university claims that the average height of male students in the university hostel is more than 175 cm with a standard deviation of 8 cm. To test the claim the physical trainer at a university collects the data of 75 male students in the hostel and calculate the average height of those 75 students as 176.3 cm.Assume data is normal.\n",
    "</b>\n",
    "                </font>\n",
    "            </div>\n",
    "        </td>\n",
    "    </tr>\n",
    "</table>"
   ]
  },
  {
   "cell_type": "code",
   "execution_count": 27,
   "metadata": {},
   "outputs": [
    {
     "name": "stdout",
     "output_type": "stream",
     "text": [
      "1.4072912811497253\n"
     ]
    }
   ],
   "source": [
    "# type your code here\n",
    "#STEP1:-HYPOTHESIS FORMATION\n",
    "#H0:MU(AVG MILAGE)=26\n",
    "#Ha:MU(AVG MILAGE)!=26\n",
    "\n",
    "#STEP2:\n",
    "#1)POPULATION STANDARD DEVIATION IS KNOWN\n",
    "#2)DATA IS NORMAL\n",
    "\n",
    "#ONE SAMPLE Z TEST CAN BE APPLIED\n",
    "\n",
    "#STEP3:TEST STATISTICS\n",
    "mu=175\n",
    "sigma=8\n",
    "n=75\n",
    "x_bar=176.3\n",
    "z=(x_bar-mu)/(sigma/n**0.5)\n",
    "print(z)"
   ]
  },
  {
   "cell_type": "code",
   "execution_count": 28,
   "metadata": {},
   "outputs": [
    {
     "data": {
      "text/plain": [
       "0.15934103364850394"
      ]
     },
     "execution_count": 28,
     "metadata": {},
     "output_type": "execute_result"
    }
   ],
   "source": [
    "pval=stats.norm.sf(abs(z))*2\n",
    "pval"
   ]
  },
  {
   "cell_type": "code",
   "execution_count": null,
   "metadata": {},
   "outputs": [],
   "source": [
    "#STEP4:-\n",
    "#SIGNIFICANCE LEVEL=0.05\n",
    "#P-VALUE=0.15934103364850394\n",
    "#P-VALUE>SIGNIFICANCE LEVEL so H0 IS Selected,Ha IS Rejected"
   ]
  },
  {
   "cell_type": "markdown",
   "metadata": {},
   "source": [
    "##### INFERENCE:\n",
    "    The university claim of the average height of male students in the university hostel is more than 175 cm is correct"
   ]
  },
  {
   "cell_type": "markdown",
   "metadata": {},
   "source": [
    "<table align=\"left\">\n",
    "    <tr>\n",
    "        <td width=\"6%\">\n",
    "            <img src=\"question_icon.png\">\n",
    "        </td>\n",
    "        <td>\n",
    "            <div align=\"left\", style=\"font-size:120%\">\n",
    "                <font color=\"#21618C\">\n",
    "                    <b>10. The company MangoFun that produces mango juice claims that the protein content in their juice is more than the juice produced by their competitor company FruitMix. Protein content in 50 boxes of MangoFun juice and 80 boxes of FruitMix juice is collected from a normal population which have an average protein content as 0.4 g and 0.35 g. The two population have a standard deviation of 0.08 g for MangoFun juice and 0.05 g for FruitMix juice. Test the claim using a at a 1% level of significance.Assume data is normal</b>\n",
    "                </font>\n",
    "            </div>\n",
    "        </td>\n",
    "    </tr>\n",
    "</table>"
   ]
  },
  {
   "cell_type": "code",
   "execution_count": 36,
   "metadata": {},
   "outputs": [],
   "source": [
    "# type your code here\n",
    "#not yet taken"
   ]
  },
  {
   "cell_type": "code",
   "execution_count": 4,
   "metadata": {},
   "outputs": [
    {
     "data": {
      "text/plain": [
       "3.96214425875164"
      ]
     },
     "execution_count": 4,
     "metadata": {},
     "output_type": "execute_result"
    }
   ],
   "source": [
    "#step1:Hypothesis Formation\n",
    "#H0:mu1=mu2\n",
    "#Ha:mu1!=mu2\n",
    "#H0:mu1-mu2=0\n",
    "#Ha:mu1-mu2!=0\n",
    "\n",
    "#Step2:Data is Normal\n",
    "#Population Standard Deviation Is Known and Given 2sample Hence 2 Sample ztest\n",
    "\n",
    "#Step3:Test Statistics\n",
    "n1=50\n",
    "n2=80\n",
    "x1_bar=0.4\n",
    "x2_bar=0.35\n",
    "sigma1=0.08\n",
    "sigma2=0.05\n",
    "num=(x1_bar-x2_bar)-0\n",
    "den=np.sqrt((sigma1**2/n1)+((sigma2**2/n2)))\n",
    "z=num/den\n",
    "z"
   ]
  },
  {
   "cell_type": "code",
   "execution_count": 3,
   "metadata": {},
   "outputs": [
    {
     "data": {
      "text/plain": [
       "7.427963471473117e-05"
      ]
     },
     "execution_count": 3,
     "metadata": {},
     "output_type": "execute_result"
    }
   ],
   "source": [
    "#\n",
    "pval=stats.norm.sf(abs(z))*2\n",
    "pval"
   ]
  },
  {
   "cell_type": "code",
   "execution_count": null,
   "metadata": {},
   "outputs": [],
   "source": []
  },
  {
   "cell_type": "code",
   "execution_count": null,
   "metadata": {},
   "outputs": [],
   "source": []
  }
 ],
 "metadata": {
  "colab": {
   "name": "ITP - In-Class Lab Exercise (Day1) - Solutions [V1.0 030120].ipynb",
   "provenance": []
  },
  "kernelspec": {
   "display_name": "Python 3",
   "language": "python",
   "name": "python3"
  },
  "language_info": {
   "codemirror_mode": {
    "name": "ipython",
    "version": 3
   },
   "file_extension": ".py",
   "mimetype": "text/x-python",
   "name": "python",
   "nbconvert_exporter": "python",
   "pygments_lexer": "ipython3",
   "version": "3.7.4"
  }
 },
 "nbformat": 4,
 "nbformat_minor": 1
}
