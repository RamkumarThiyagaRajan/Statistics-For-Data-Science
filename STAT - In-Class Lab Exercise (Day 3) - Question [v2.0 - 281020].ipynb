{
 "cells": [
  {
   "cell_type": "markdown",
   "metadata": {
    "colab_type": "text",
    "id": "0yzl3MKzf98L"
   },
   "source": [
    "<table align=\"center\" width=100%>\n",
    "    <tr>\n",
    "        <td width=\"10%\">\n",
    "            <img src=\"in_class.png\">\n",
    "        </td>\n",
    "        <td>\n",
    "            <div align=\"center\">\n",
    "                <font color=\"#21618C\" size=8px>\n",
    "                    <b> Inclass-Lab  <br>(Day 3)\n",
    "                    </b>\n",
    "                </font>\n",
    "            </div>\n",
    "        </td>\n",
    "    </tr>\n",
    "</table>"
   ]
  },
  {
   "cell_type": "markdown",
   "metadata": {},
   "source": [
    "**Import the required libraries**"
   ]
  },
  {
   "cell_type": "code",
   "execution_count": 2,
   "metadata": {},
   "outputs": [],
   "source": [
    "# type your code here \n",
    "import numpy as np\n",
    "import pandas as pd\n",
    "import scipy.stats as stats"
   ]
  },
  {
   "cell_type": "markdown",
   "metadata": {},
   "source": [
    "<table align=\"left\">\n",
    "    <tr>\n",
    "        <td width=\"6%\">\n",
    "            <img src=\"question_icon.png\">\n",
    "        </td>\n",
    "        <td>\n",
    "            <div align=\"left\", style=\"font-size:120%\">\n",
    "                <font color=\"#21618C\">\n",
    "                    <b>10. The company MangoFun that produces mango juice claims that the protein content in their juice is more than the juice produced by their competitor company FruitMix. Protein content in 50 boxes of MangoFun juice and 80 boxes of FruitMix juice is collected from a normal population which have an average protein content as 0.4 g and 0.35 g. The two population have a standard deviation of 0.08 g for MangoFun juice and 0.05 g for FruitMix juice. Test the claim using a at a 1% level of significance.Assume data is normal. (Inclass day2 )</b>\n",
    "                </font>\n",
    "            </div>\n",
    "        </td>\n",
    "    </tr>\n",
    "</table>"
   ]
  },
  {
   "cell_type": "code",
   "execution_count": null,
   "metadata": {},
   "outputs": [],
   "source": [
    "#Step1:-Hypothesis\n",
    "#H0: mu=Avg protein content in MangoFun and FruitMix are Same\n",
    "#Ha: mu!=Avg protein content in MangoFun and FruitMix are not Same\n",
    "\n",
    "#H0: mu1-mu2=0\n",
    "#Ha: mu1-mu2!=0"
   ]
  },
  {
   "cell_type": "code",
   "execution_count": 3,
   "metadata": {},
   "outputs": [],
   "source": [
    "# type your code here\n",
    "n1=50\n",
    "n2=80\n",
    "x1_bar=0.4\n",
    "x2_bar=0.35\n",
    "s1=0.08\n",
    "s2=0.05\n",
    "df1=n1-1\n",
    "df2=n2-1\n",
    "df_total=df1+df2"
   ]
  },
  {
   "cell_type": "code",
   "execution_count": 4,
   "metadata": {},
   "outputs": [
    {
     "data": {
      "text/plain": [
       "0.00399296875"
      ]
     },
     "execution_count": 4,
     "metadata": {},
     "output_type": "execute_result"
    }
   ],
   "source": [
    "sp_var=(df1*s1**2+df2*s2**2)/(df1+df2)\n",
    "sp_var"
   ]
  },
  {
   "cell_type": "code",
   "execution_count": 5,
   "metadata": {},
   "outputs": [
    {
     "data": {
      "text/plain": [
       "4.389149444162152"
      ]
     },
     "execution_count": 5,
     "metadata": {},
     "output_type": "execute_result"
    }
   ],
   "source": [
    "num=(x1_bar-x2_bar)-0\n",
    "denom=np.sqrt(sp_var*(1/n1+1/n2))\n",
    "t=num/denom\n",
    "t"
   ]
  },
  {
   "cell_type": "code",
   "execution_count": 6,
   "metadata": {},
   "outputs": [
    {
     "data": {
      "text/plain": [
       "2.3570463736003807e-05"
      ]
     },
     "execution_count": 6,
     "metadata": {},
     "output_type": "execute_result"
    }
   ],
   "source": [
    "pval=stats.t.sf(abs(t),df=df_total)*2\n",
    "pval"
   ]
  },
  {
   "cell_type": "code",
   "execution_count": null,
   "metadata": {},
   "outputs": [],
   "source": [
    "#pval=2.3570463736003807e-05\n",
    "#significance level=0.01\n",
    "#pval<significance level=>H0 is rejected,Ha is Selected which means Avg protein content in MangoFun and FruitMix are not Same"
   ]
  },
  {
   "cell_type": "code",
   "execution_count": null,
   "metadata": {},
   "outputs": [],
   "source": [
    "#test statics is +ve=>Avg protein content in MangoFun is greater than FruitMix."
   ]
  },
  {
   "cell_type": "markdown",
   "metadata": {},
   "source": [
    "###### INFERENCE:-\n",
    "    The company MangoFun produces mangojuice in that protein content in their juice is more than the juice produced by their competitor company FruitMix,the company MangoFun Claim is Correct"
   ]
  },
  {
   "cell_type": "markdown",
   "metadata": {
    "colab_type": "text",
    "id": "Lzs2ddCwf99m"
   },
   "source": [
    "<table align=\"left\">\n",
    "    <tr>\n",
    "        <td width=\"6%\">\n",
    "            <img src=\"question_icon.png\">\n",
    "        </td>\n",
    "        <td>\n",
    "            <div align=\"left\", style=\"font-size:120%\">\n",
    "                <font color=\"#21618C\">\n",
    "                    <b>1. The sales manager at a car showroom claims that the cars in the showroom have average mileage per gallon (mpg) more than 18 mpg. Use the given dataset to test the manager's claim at 90% confidence.</b>\n",
    "                </font>\n",
    "            </div>\n",
    "        </td>\n",
    "    </tr>\n",
    "</table>"
   ]
  },
  {
   "cell_type": "markdown",
   "metadata": {},
   "source": [
    "Use the dataset given in the CSV file `cars.csv`"
   ]
  },
  {
   "cell_type": "code",
   "execution_count": 7,
   "metadata": {},
   "outputs": [
    {
     "data": {
      "text/html": [
       "<div>\n",
       "<style scoped>\n",
       "    .dataframe tbody tr th:only-of-type {\n",
       "        vertical-align: middle;\n",
       "    }\n",
       "\n",
       "    .dataframe tbody tr th {\n",
       "        vertical-align: top;\n",
       "    }\n",
       "\n",
       "    .dataframe thead th {\n",
       "        text-align: right;\n",
       "    }\n",
       "</style>\n",
       "<table border=\"1\" class=\"dataframe\">\n",
       "  <thead>\n",
       "    <tr style=\"text-align: right;\">\n",
       "      <th></th>\n",
       "      <th>name</th>\n",
       "      <th>mpg</th>\n",
       "      <th>cyl</th>\n",
       "      <th>disp</th>\n",
       "      <th>hp</th>\n",
       "      <th>drat</th>\n",
       "      <th>wt</th>\n",
       "      <th>qsec</th>\n",
       "      <th>vs</th>\n",
       "      <th>am</th>\n",
       "      <th>gear</th>\n",
       "      <th>carb</th>\n",
       "    </tr>\n",
       "  </thead>\n",
       "  <tbody>\n",
       "    <tr>\n",
       "      <td>0</td>\n",
       "      <td>Mazda RX4</td>\n",
       "      <td>21.0</td>\n",
       "      <td>6</td>\n",
       "      <td>160.0</td>\n",
       "      <td>110</td>\n",
       "      <td>3.90</td>\n",
       "      <td>2.620</td>\n",
       "      <td>16.46</td>\n",
       "      <td>0</td>\n",
       "      <td>M</td>\n",
       "      <td>4</td>\n",
       "      <td>4</td>\n",
       "    </tr>\n",
       "    <tr>\n",
       "      <td>1</td>\n",
       "      <td>Mazda RX4 Wag</td>\n",
       "      <td>21.0</td>\n",
       "      <td>6</td>\n",
       "      <td>160.0</td>\n",
       "      <td>110</td>\n",
       "      <td>3.90</td>\n",
       "      <td>2.875</td>\n",
       "      <td>17.02</td>\n",
       "      <td>0</td>\n",
       "      <td>M</td>\n",
       "      <td>4</td>\n",
       "      <td>4</td>\n",
       "    </tr>\n",
       "    <tr>\n",
       "      <td>2</td>\n",
       "      <td>Datsun 710</td>\n",
       "      <td>22.8</td>\n",
       "      <td>4</td>\n",
       "      <td>108.0</td>\n",
       "      <td>93</td>\n",
       "      <td>3.85</td>\n",
       "      <td>2.320</td>\n",
       "      <td>18.61</td>\n",
       "      <td>1</td>\n",
       "      <td>M</td>\n",
       "      <td>4</td>\n",
       "      <td>1</td>\n",
       "    </tr>\n",
       "    <tr>\n",
       "      <td>3</td>\n",
       "      <td>Hornet 4 Drive</td>\n",
       "      <td>21.4</td>\n",
       "      <td>6</td>\n",
       "      <td>258.0</td>\n",
       "      <td>110</td>\n",
       "      <td>3.08</td>\n",
       "      <td>3.215</td>\n",
       "      <td>19.44</td>\n",
       "      <td>1</td>\n",
       "      <td>A</td>\n",
       "      <td>3</td>\n",
       "      <td>1</td>\n",
       "    </tr>\n",
       "    <tr>\n",
       "      <td>4</td>\n",
       "      <td>Hornet Sportabout</td>\n",
       "      <td>18.7</td>\n",
       "      <td>8</td>\n",
       "      <td>360.0</td>\n",
       "      <td>175</td>\n",
       "      <td>3.15</td>\n",
       "      <td>3.440</td>\n",
       "      <td>17.02</td>\n",
       "      <td>0</td>\n",
       "      <td>A</td>\n",
       "      <td>3</td>\n",
       "      <td>2</td>\n",
       "    </tr>\n",
       "  </tbody>\n",
       "</table>\n",
       "</div>"
      ],
      "text/plain": [
       "                name   mpg  cyl   disp   hp  drat     wt   qsec  vs am  gear  \\\n",
       "0          Mazda RX4  21.0    6  160.0  110  3.90  2.620  16.46   0  M     4   \n",
       "1      Mazda RX4 Wag  21.0    6  160.0  110  3.90  2.875  17.02   0  M     4   \n",
       "2         Datsun 710  22.8    4  108.0   93  3.85  2.320  18.61   1  M     4   \n",
       "3     Hornet 4 Drive  21.4    6  258.0  110  3.08  3.215  19.44   1  A     3   \n",
       "4  Hornet Sportabout  18.7    8  360.0  175  3.15  3.440  17.02   0  A     3   \n",
       "\n",
       "   carb  \n",
       "0     4  \n",
       "1     4  \n",
       "2     1  \n",
       "3     1  \n",
       "4     2  "
      ]
     },
     "execution_count": 7,
     "metadata": {},
     "output_type": "execute_result"
    }
   ],
   "source": [
    "# type your code here\n",
    "df=pd.read_csv('cars.csv')\n",
    "df.head()"
   ]
  },
  {
   "cell_type": "code",
   "execution_count": 8,
   "metadata": {},
   "outputs": [
    {
     "data": {
      "text/plain": [
       "0     21.0\n",
       "1     21.0\n",
       "2     22.8\n",
       "3     21.4\n",
       "4     18.7\n",
       "5     18.1\n",
       "6     14.3\n",
       "7     24.4\n",
       "8     22.8\n",
       "9     19.2\n",
       "10    17.8\n",
       "11    16.4\n",
       "12    17.3\n",
       "13    15.2\n",
       "14    10.4\n",
       "15    10.4\n",
       "16    14.7\n",
       "17    32.4\n",
       "18    30.4\n",
       "19    33.9\n",
       "20    21.5\n",
       "21    15.5\n",
       "22    15.2\n",
       "23    13.3\n",
       "24    19.2\n",
       "25    27.3\n",
       "26    26.0\n",
       "27    30.4\n",
       "28    15.8\n",
       "29    19.7\n",
       "30    15.0\n",
       "31    21.4\n",
       "Name: mpg, dtype: float64"
      ]
     },
     "execution_count": 8,
     "metadata": {},
     "output_type": "execute_result"
    }
   ],
   "source": [
    "mpg=df['mpg']"
   ]
  },
  {
   "cell_type": "code",
   "execution_count": 9,
   "metadata": {},
   "outputs": [
    {
     "data": {
      "text/plain": [
       "(0.9475650191307068, 0.12288373708724976)"
      ]
     },
     "execution_count": 9,
     "metadata": {},
     "output_type": "execute_result"
    }
   ],
   "source": [
    "#TEST OF NORMALITY\n",
    "#BY SHAPIRO WILK TEST\n",
    "#H0: SKEW=0\n",
    "#Ha: SKEW!=0\n",
    "\n",
    "stats.shapiro(df['mpg'])"
   ]
  },
  {
   "cell_type": "code",
   "execution_count": null,
   "metadata": {},
   "outputs": [],
   "source": [
    "#pval=0.1228\n",
    "#significance lvl=0.1\n",
    "#pval>sig lvl\n",
    "#H0 is selected i.e Data is Normal"
   ]
  },
  {
   "cell_type": "code",
   "execution_count": 11,
   "metadata": {},
   "outputs": [
    {
     "name": "stdout",
     "output_type": "stream",
     "text": [
      "Sample Mean: 20.090624999999996\n",
      "Population Mean 18\n",
      "Sample_Standard Deviation: 6.026948052089105\n",
      "one-sample t-Test Statistics 1.9622470300280164\n"
     ]
    }
   ],
   "source": [
    "#Step1:-Hypothesis Formation\n",
    "\n",
    "#H0: mu=18\n",
    "#Ha: mu!=18\n",
    "\n",
    "#Step2:-\n",
    "#1.Data is normal\n",
    "#2.Sample standard Deviation=>is Known\n",
    "#so we go with one sample t-Test\n",
    "\n",
    "#Step3:Test Statistics\n",
    "x_bar=df['mpg'].mean()\n",
    "print('Sample Mean:',x_bar)\n",
    "mu=18\n",
    "print('Population Mean',mu)\n",
    "s=df['mpg'].std()\n",
    "print('Sample_Standard Deviation:',s)\n",
    "n=len(df['mpg'])\n",
    "t=(x_bar-mu)/(s/n**0.5)\n",
    "print('one-sample t-Test Statistics:',t)"
   ]
  },
  {
   "cell_type": "code",
   "execution_count": 12,
   "metadata": {},
   "outputs": [
    {
     "name": "stdout",
     "output_type": "stream",
     "text": [
      "PValue: 0.0587642243155619\n"
     ]
    }
   ],
   "source": [
    "pval=stats.t.sf(abs(t),df=n-1)*2\n",
    "print('PValue:',pval)"
   ]
  },
  {
   "cell_type": "code",
   "execution_count": null,
   "metadata": {},
   "outputs": [],
   "source": [
    "#PValue: 0.0587642243155619\n",
    "#Significance Level=0.1\n",
    "#PVaLue<Significance Level=>H0 is Rejected,Ha is Selected which means mu!=18 Avg Mileage is not 18mpg."
   ]
  },
  {
   "cell_type": "code",
   "execution_count": null,
   "metadata": {},
   "outputs": [],
   "source": [
    "#t-Test Statistics is +ve =>Avg Mileage is more than 18mpg"
   ]
  },
  {
   "cell_type": "markdown",
   "metadata": {},
   "source": [
    "###### INFERENCE:-\n",
    "    The sales manager at a car showroom claims that the cars in the showroom have average mileage per gallon (mpg) more than 18 mpg is Correct"
   ]
  },
  {
   "cell_type": "markdown",
   "metadata": {
    "colab_type": "text",
    "id": "YIaQZc58f98p"
   },
   "source": [
    "<table align=\"left\">\n",
    "    <tr>\n",
    "        <td width=\"6%\">\n",
    "            <img src=\"question_icon.png\">\n",
    "        </td>\n",
    "        <td>\n",
    "            <div align=\"left\", style=\"font-size:120%\">\n",
    "                <font color=\"#21618C\">\n",
    "                    <b>2. The technician claims that the price of phablet is not the same as the price of tablet. For the study, the technician collects the data of 50 gadgets of each type. Test the technician's claim using the 95% confidence level.</b>\n",
    "                </font>\n",
    "            </div>\n",
    "        </td>\n",
    "    </tr>\n",
    "</table>"
   ]
  },
  {
   "cell_type": "markdown",
   "metadata": {},
   "source": [
    "Consider the dataset given in the CSV file `electronic.csv`. "
   ]
  },
  {
   "cell_type": "code",
   "execution_count": 16,
   "metadata": {},
   "outputs": [
    {
     "data": {
      "text/html": [
       "<div>\n",
       "<style scoped>\n",
       "    .dataframe tbody tr th:only-of-type {\n",
       "        vertical-align: middle;\n",
       "    }\n",
       "\n",
       "    .dataframe tbody tr th {\n",
       "        vertical-align: top;\n",
       "    }\n",
       "\n",
       "    .dataframe thead th {\n",
       "        text-align: right;\n",
       "    }\n",
       "</style>\n",
       "<table border=\"1\" class=\"dataframe\">\n",
       "  <thead>\n",
       "    <tr style=\"text-align: right;\">\n",
       "      <th></th>\n",
       "      <th>Screensize (inch)</th>\n",
       "      <th>Price ($)</th>\n",
       "      <th>Weight (g)</th>\n",
       "      <th>Type</th>\n",
       "    </tr>\n",
       "  </thead>\n",
       "  <tbody>\n",
       "    <tr>\n",
       "      <td>0</td>\n",
       "      <td>6.5</td>\n",
       "      <td>245</td>\n",
       "      <td>252</td>\n",
       "      <td>Phablet</td>\n",
       "    </tr>\n",
       "    <tr>\n",
       "      <td>1</td>\n",
       "      <td>6.3</td>\n",
       "      <td>210</td>\n",
       "      <td>252</td>\n",
       "      <td>Phablet</td>\n",
       "    </tr>\n",
       "    <tr>\n",
       "      <td>2</td>\n",
       "      <td>6.1</td>\n",
       "      <td>224</td>\n",
       "      <td>234</td>\n",
       "      <td>Phablet</td>\n",
       "    </tr>\n",
       "    <tr>\n",
       "      <td>3</td>\n",
       "      <td>6.0</td>\n",
       "      <td>217</td>\n",
       "      <td>212</td>\n",
       "      <td>Phablet</td>\n",
       "    </tr>\n",
       "    <tr>\n",
       "      <td>4</td>\n",
       "      <td>6.4</td>\n",
       "      <td>252</td>\n",
       "      <td>252</td>\n",
       "      <td>Phablet</td>\n",
       "    </tr>\n",
       "  </tbody>\n",
       "</table>\n",
       "</div>"
      ],
      "text/plain": [
       "   Screensize (inch)  Price ($)  Weight (g)     Type\n",
       "0                6.5        245         252  Phablet\n",
       "1                6.3        210         252  Phablet\n",
       "2                6.1        224         234  Phablet\n",
       "3                6.0        217         212  Phablet\n",
       "4                6.4        252         252  Phablet"
      ]
     },
     "execution_count": 16,
     "metadata": {},
     "output_type": "execute_result"
    }
   ],
   "source": [
    "# type your code here\n",
    "df=pd.read_csv('electronic.csv')\n",
    "df.head()"
   ]
  },
  {
   "cell_type": "code",
   "execution_count": 25,
   "metadata": {},
   "outputs": [],
   "source": [
    "Phablet_Price=df[df['Type']=='Phablet']['Price ($)']\n",
    "Tablet_Price=df[df['Type']=='Tablet']['Price ($)']"
   ]
  },
  {
   "cell_type": "code",
   "execution_count": 28,
   "metadata": {},
   "outputs": [
    {
     "data": {
      "text/plain": [
       "(0.9686920642852783, 0.20465952157974243)"
      ]
     },
     "execution_count": 28,
     "metadata": {},
     "output_type": "execute_result"
    }
   ],
   "source": [
    "#TEST OF NORMALITY\n",
    "#BY SHAPIRO WILK TEST\n",
    "#H0: SKEW=0\n",
    "#Ha: SKEW!=0\n",
    "stats.shapiro(Phablet_Price)"
   ]
  },
  {
   "cell_type": "code",
   "execution_count": 29,
   "metadata": {},
   "outputs": [
    {
     "data": {
      "text/plain": [
       "(0.9741330742835999, 0.33798879384994507)"
      ]
     },
     "execution_count": 29,
     "metadata": {},
     "output_type": "execute_result"
    }
   ],
   "source": [
    "stats.shapiro(Tablet_Price)"
   ]
  },
  {
   "cell_type": "code",
   "execution_count": null,
   "metadata": {},
   "outputs": [],
   "source": [
    "#significance value=0.05\n",
    "#both p1 value and p2value are >0.05\n",
    "#Hence data is normal"
   ]
  },
  {
   "cell_type": "code",
   "execution_count": null,
   "metadata": {},
   "outputs": [],
   "source": [
    "#Step1:-Hypothesis\n",
    "#H0: mu1=Avg Price of phablet and Tablet are Same\n",
    "#Ha: mu!=Avg Price of phablet and Tablet are not Same\n",
    "\n",
    "#H0: mu1-mu2=0\n",
    "#Ha: mu1-mu2!=0"
   ]
  },
  {
   "cell_type": "code",
   "execution_count": null,
   "metadata": {},
   "outputs": [],
   "source": [
    "#Step2:-\n",
    "#1.data is Normal\n",
    "#2.Sample standard Deviation is known #sample Standard Deviation=>t-test\n",
    "#3.2 Samples are given #2 Sample Standard Deviation"
   ]
  },
  {
   "cell_type": "code",
   "execution_count": 30,
   "metadata": {},
   "outputs": [],
   "source": [
    "#Step3:- t-Test -Statistics:\n",
    "x1_bar=Phablet_Price.mean()\n",
    "x2_bar=Tablet_Price.mean()\n",
    "s1=Phablet_Price.std()\n",
    "s2=Tablet_Price.std()\n",
    "n1=len(Phablet_Price)\n",
    "n2=len(Tablet_Price)\n",
    "df1=n1-1#degree of freedom\n",
    "df2=n2-1\n",
    "df_total=df1+df2"
   ]
  },
  {
   "cell_type": "code",
   "execution_count": 31,
   "metadata": {},
   "outputs": [
    {
     "data": {
      "text/plain": [
       "596.94"
      ]
     },
     "execution_count": 31,
     "metadata": {},
     "output_type": "execute_result"
    }
   ],
   "source": [
    "sp_var=(df1*s1**2+df2*s2**2)/(df1+df2)\n",
    "sp_var#pooled variance"
   ]
  },
  {
   "cell_type": "code",
   "execution_count": 32,
   "metadata": {},
   "outputs": [
    {
     "data": {
      "text/plain": [
       "9.282772555558113"
      ]
     },
     "execution_count": 32,
     "metadata": {},
     "output_type": "execute_result"
    }
   ],
   "source": [
    "num=(x1_bar-x2_bar)-0\n",
    "denom=np.sqrt(sp_var*(1/n1+1/n2))\n",
    "t=num/denom\n",
    "t"
   ]
  },
  {
   "cell_type": "code",
   "execution_count": 33,
   "metadata": {},
   "outputs": [
    {
     "data": {
      "text/plain": [
       "4.362239016010151e-15"
      ]
     },
     "execution_count": 33,
     "metadata": {},
     "output_type": "execute_result"
    }
   ],
   "source": [
    "pval=stats.t.sf(abs(t),df=df_total)*2\n",
    "pval"
   ]
  },
  {
   "cell_type": "code",
   "execution_count": 34,
   "metadata": {},
   "outputs": [
    {
     "data": {
      "text/plain": [
       "Ttest_indResult(statistic=9.282772555558113, pvalue=4.362239016010151e-15)"
      ]
     },
     "execution_count": 34,
     "metadata": {},
     "output_type": "execute_result"
    }
   ],
   "source": [
    "#inbuild stats model\n",
    "#stats.ttest_ind(sample1,sample2)#ind-independent\n",
    "stats.ttest_ind(Phablet_Price,Tablet_Price)"
   ]
  },
  {
   "cell_type": "code",
   "execution_count": null,
   "metadata": {},
   "outputs": [],
   "source": [
    "#pval=4.36\n",
    "#sig lvl=0.05\n",
    "#pval>sig lvl=>H0 is Selected,Ha is Rejected which means Avg Price of phablet and Tablet  are Same"
   ]
  },
  {
   "cell_type": "markdown",
   "metadata": {},
   "source": [
    "###### INFERENCE:-\n",
    "    The technician claims that the price of phablet is not the same as the price of tablet is Wrong."
   ]
  },
  {
   "cell_type": "markdown",
   "metadata": {
    "colab_type": "text",
    "id": "qI6L73Qhf98t"
   },
   "source": [
    "<table align=\"left\">\n",
    "    <tr>\n",
    "        <td width=\"6%\">\n",
    "            <img src=\"question_icon.png\">\n",
    "        </td>\n",
    "        <td>\n",
    "            <div align=\"left\", style=\"font-size:120%\">\n",
    "                <font color=\"#21618C\">\n",
    "                    <b>3. The quality assurance department has collected 15 packets of potato chips. The department wants to test the average weight of the packets. Check whether they can use the one sample t-test for the population mean with 95% confidence.</b>\n",
    "                </font>\n",
    "            </div>\n",
    "        </td>\n",
    "    </tr>\n",
    "</table>"
   ]
  },
  {
   "cell_type": "markdown",
   "metadata": {},
   "source": [
    "Use the data given below:\n",
    "        \n",
    "    pack_wt = [26.8, 29.6, 27.8, 31.2, 30.9, 27.1, 28, 28.6, 29.4, 29.3, 31.5, 32.4, 29.7, 28.1, 31.9]"
   ]
  },
  {
   "cell_type": "code",
   "execution_count": 1,
   "metadata": {},
   "outputs": [],
   "source": [
    "# type your code here\n",
    "pack_wt=[26.8, 29.6, 27.8, 31.2, 30.9, 27.1, 28, 28.6, 29.4, 29.3, 31.5, 32.4, 29.7, 28.1, 31.9]\n",
    "#We need population mean to use in t-test but population mean is not given we canot use  the one sample t-test "
   ]
  },
  {
   "cell_type": "markdown",
   "metadata": {},
   "source": [
    "###### INFERENCE:-\n",
    "    we canot use  the one sample t-test because population mean is not given"
   ]
  },
  {
   "cell_type": "markdown",
   "metadata": {
    "colab_type": "text",
    "id": "iZkGr2rTf98y"
   },
   "source": [
    "<table align=\"left\">\n",
    "    <tr>\n",
    "        <td width=\"6%\">\n",
    "            <img src=\"question_icon.png\">\n",
    "        </td>\n",
    "        <td>\n",
    "            <div align=\"left\", style=\"font-size:120%\">\n",
    "                <font color=\"#21618C\">\n",
    "                    <b>4. Use the weight of the potato chips packets given in the previous question and test whether the average weight of packet is more than 30 g.  (Use 10% level of significance)</b>\n",
    "                </font>\n",
    "            </div>\n",
    "        </td>\n",
    "    </tr>\n",
    "</table>"
   ]
  },
  {
   "cell_type": "markdown",
   "metadata": {},
   "source": [
    "Use the data given below:\n",
    "        \n",
    "    pack_wt = [26.8, 29.6, 27.8, 31.2, 30.9, 27.1, 28, 28.6, 29.4, 29.3, 31.5, 32.4, 29.7, 28.1, 31.9]"
   ]
  },
  {
   "cell_type": "code",
   "execution_count": 37,
   "metadata": {},
   "outputs": [
    {
     "data": {
      "text/plain": [
       "array([26.8, 29.6, 27.8, 31.2, 30.9, 27.1, 28. , 28.6, 29.4, 29.3, 31.5,\n",
       "       32.4, 29.7, 28.1, 31.9])"
      ]
     },
     "execution_count": 37,
     "metadata": {},
     "output_type": "execute_result"
    }
   ],
   "source": [
    "pack_wt=[26.8, 29.6, 27.8, 31.2, 30.9, 27.1, 28, 28.6, 29.4, 29.3, 31.5, 32.4, 29.7, 28.1, 31.9]\n",
    "pack_wt_num=np.array(pack_wt)\n",
    "pack_wt_num"
   ]
  },
  {
   "cell_type": "code",
   "execution_count": 39,
   "metadata": {},
   "outputs": [
    {
     "name": "stdout",
     "output_type": "stream",
     "text": [
      "Sample_Mean: 29.486666666666665\n",
      "Sample_Standard Deviation: 1.7142021143636725\n",
      "t-testStatistics -1.159799905970342\n"
     ]
    }
   ],
   "source": [
    "# type your code here\n",
    "#Step1:-Hypothesis Formation\n",
    "\n",
    "#H0: mu=30\n",
    "#Ha: mu!=30\n",
    "\n",
    "#Step2:-\n",
    "#1.Data is normal\n",
    "#2.Sample standard Deviation=>t-test\n",
    "#give one sample so we go with=>one sample t-Test\n",
    "\n",
    "#Step3:Test Statistics\n",
    "x_bar=np.mean(pack_wt)\n",
    "print('Sample_Mean:',x_bar)\n",
    "mu=30\n",
    "s=np.std(pack_wt)\n",
    "print('Sample_Standard Deviation:',s)\n",
    "n=len(pack_wt)\n",
    "t=(x_bar-mu)/(s/n**0.5)\n",
    "print('t-testStatistics',t)"
   ]
  },
  {
   "cell_type": "code",
   "execution_count": 40,
   "metadata": {},
   "outputs": [
    {
     "data": {
      "text/plain": [
       "0.2655283224120808"
      ]
     },
     "execution_count": 40,
     "metadata": {},
     "output_type": "execute_result"
    }
   ],
   "source": [
    "#Step4:-PValue\n",
    "pval=stats.t.sf(abs(t),df=n-1)*2\n",
    "pval"
   ]
  },
  {
   "cell_type": "code",
   "execution_count": null,
   "metadata": {},
   "outputs": [],
   "source": [
    "#sig lvl=0.1\n",
    "#pval=0.2655283224120808\n",
    "#pval>sig lvl\n",
    "#Ho is Selected,Ha is Rejected i.e mu=30 which means the average weight of the potato chipspackets is 30g.Hencethe average weight of packet is not more than 30 g"
   ]
  },
  {
   "cell_type": "markdown",
   "metadata": {},
   "source": [
    "###### INFERENCE:-\n",
    "     The Average weight of the potato chips packets is 30g"
   ]
  },
  {
   "cell_type": "markdown",
   "metadata": {
    "colab_type": "text",
    "id": "iOS1kKjWf983"
   },
   "source": [
    "<table align=\"left\">\n",
    "    <tr>\n",
    "        <td width=\"6%\">\n",
    "            <img src=\"question_icon.png\">\n",
    "        </td>\n",
    "        <td>\n",
    "            <div align=\"left\", style=\"font-size:120%\">\n",
    "                <font color=\"#21618C\">\n",
    "                    <b>5. The newspaper agency wants to test whether Harry takes less time to deliver the newspapers than his colleague Ron. The manager has collected time (in minutes) taken by Harry and Ron for 7 days. Is the given dataset unpaired? If yes, check whether the manager at newspaper agency can use the two sample t-test for unpaired data with 99% confidence.  </b>\n",
    "                </font>\n",
    "            </div>\n",
    "        </td>\n",
    "    </tr>\n",
    "</table>"
   ]
  },
  {
   "cell_type": "markdown",
   "metadata": {},
   "source": [
    "Use the data given below:\n",
    "        \n",
    "    harry = [18.5, 17.4, 19.2, 16, 15.8, 13.4, 19.5]\n",
    "    ron = [19.7, 18.6, 21.3, 17.5, 23.8, 20.7, 21]"
   ]
  },
  {
   "cell_type": "code",
   "execution_count": 45,
   "metadata": {},
   "outputs": [
    {
     "data": {
      "text/plain": [
       "17.114285714285714"
      ]
     },
     "execution_count": 45,
     "metadata": {},
     "output_type": "execute_result"
    }
   ],
   "source": [
    "harry=[18.5, 17.4, 19.2, 16, 15.8, 13.4, 19.5]\n",
    "ron=[19.7, 18.6, 21.3, 17.5, 23.8, 20.7, 21]\n",
    "\n",
    "harry_num=np.array(harry)\n",
    "ron_num=np.array(ron)\n",
    "\n"
   ]
  },
  {
   "cell_type": "code",
   "execution_count": 46,
   "metadata": {},
   "outputs": [
    {
     "name": "stdout",
     "output_type": "stream",
     "text": [
      "Pooled Variance: 3.8402040816326526\n",
      "2Sample t-testStatisics: -3.1095223072225457\n"
     ]
    }
   ],
   "source": [
    "# type your code here\n",
    "#Step1:-Hypothesis Formation\n",
    "#H0: mu1=Avg time taken by Harry and Ron are Same\n",
    "#Ha: mu!=Avg time taken by Harry and Ronare not Same\n",
    "\n",
    "#H0: mu1-mu2=0\n",
    "#Ha: mu1-mu2!=0\n",
    "\n",
    "#Step2:-\n",
    "#1.Data is Normal\n",
    "#2.Sample standard Deviation is known #sample Standard Deviation=>t-test\n",
    "#3.2 Samples are given #2 Sample Standard Deviation\n",
    "\n",
    "x1_bar=np.mean(harry_num)\n",
    "x2_bar=np.mean(ron_num)\n",
    "s1=np.std(harry_num)\n",
    "s2=np.std(ron_num)\n",
    "n1=len(harry_num)\n",
    "n2=len(ron_num)\n",
    "df1=n1-1\n",
    "df2=n2-1\n",
    "df_total=df1+df2\n",
    "\n",
    "sp_var=(df1*s1**2+df2*s2**2)/(df1+df2)\n",
    "print('Pooled Variance:',sp_var)\n",
    "\n",
    "num=(x1_bar-x2_bar)-0\n",
    "denom=np.sqrt(sp_var*(1/n1+1/n2))\n",
    "t=num/denom\n",
    "print('2Sample t-testStatisics:',t)"
   ]
  },
  {
   "cell_type": "code",
   "execution_count": 47,
   "metadata": {},
   "outputs": [
    {
     "name": "stdout",
     "output_type": "stream",
     "text": [
      "PValue: 0.009028851636832052\n"
     ]
    }
   ],
   "source": [
    "#Step3:-PValue:-\n",
    "pval=stats.t.sf(abs(t),df=df_total)*2\n",
    "print('PValue:',pval)\n"
   ]
  },
  {
   "cell_type": "code",
   "execution_count": 49,
   "metadata": {},
   "outputs": [
    {
     "data": {
      "text/plain": [
       "Ttest_indResult(statistic=-2.8788582527177526, pvalue=0.01385995160611642)"
      ]
     },
     "execution_count": 49,
     "metadata": {},
     "output_type": "execute_result"
    }
   ],
   "source": [
    "#stats.ttest_ind(sample1,sample2)#ind-independent\n",
    "stats.ttest_ind(harry_num,ron_num)"
   ]
  },
  {
   "cell_type": "code",
   "execution_count": null,
   "metadata": {},
   "outputs": [],
   "source": [
    "#pval=0.009\n",
    "#sig lvl=0.01\n",
    "#pval~=sig lvl=>H0 is Selected,Ha is Rejected which means Avg time taken by Harry and Ronare are Same\n",
    "\n",
    "#since t-Test is -ve=>Harry takes same time to deliver the newspapers as his colleague Ron"
   ]
  },
  {
   "cell_type": "markdown",
   "metadata": {},
   "source": [
    "###### INFERENCE:-\n",
    "    Harry takes same time to deliver the newspapers as his colleague Ron"
   ]
  },
  {
   "cell_type": "markdown",
   "metadata": {
    "colab_type": "text",
    "id": "V7QJT8W9f98T"
   },
   "source": [
    "<table align=\"left\">\n",
    "    <tr>\n",
    "        <td width=\"6%\">\n",
    "            <img src=\"question_icon.png\">\n",
    "        </td>\n",
    "        <td>\n",
    "            <div align=\"left\", style=\"font-size:120%\">\n",
    "                <font color=\"#21618C\">\n",
    "                    <b>6. The newspaper agency wants to test whether Harry takes less time to deliver the newspapers than his colleague Ron. The manager has collected time (in minutes) taken by Harry and Ron for 7 days. Use the given data and test the hypothesis for population mean time  with 90% confidence.</b>\n",
    "                </font>\n",
    "            </div>\n",
    "        </td>\n",
    "    </tr>\n",
    "</table>"
   ]
  },
  {
   "cell_type": "markdown",
   "metadata": {},
   "source": [
    "Use the data given below:\n",
    "        \n",
    "    harry = [18.5, 17.4, 19.2, 16, 15.8, 13.4, 19.5]\n",
    "    ron = [19.7, 18.6, 21.3, 17.5, 23.8, 20.7, 21]"
   ]
  },
  {
   "cell_type": "code",
   "execution_count": 1,
   "metadata": {},
   "outputs": [],
   "source": [
    "# type your code here\n",
    "\n",
    "#Step1:-Hypothesis Formation\n",
    "#H0: mu1=Avg time taken by Harry and Ron are Same\n",
    "#Ha: mu!=Avg time taken by Harry and Ronare not Same\n",
    "\n",
    "#H0: mu1-mu2=0\n",
    "#Ha: mu1-mu2!=0\n",
    "\n",
    "#Step2:-\n",
    "#1.Data is Normal\n",
    "#2.Sample standard Deviation is known #sample Standard Deviation=>t-test\n",
    "#3.2 Samples are given #2 Sample t_Test unpaired Statistics\n",
    "\n",
    "x1_bar=np.mean(harry_num)\n",
    "x2_bar=np.mean(ron_num)\n",
    "s1=np.std(harry_num)\n",
    "s2=np.std(ron_num)\n",
    "n1=len(harry_num)\n",
    "n2=len(ron_num)\n",
    "df1=n1-1\n",
    "df2=n2-1\n",
    "df_total=df1+df2\n",
    "\n",
    "sp_var=(df1*s1**2+df2*s2**2)/(df1+df2)\n",
    "print('Pooled Variance:',sp_var)\n",
    "\n",
    "num=(x1_bar-x2_bar)-0\n",
    "denom=np.sqrt(sp_var*(1/n1+1/n2))\n",
    "t=num/denom\n",
    "print('2Sample t-testStatisics:',t)\n",
    "\n",
    "#Step3:-PValue:-\n",
    "pval=stats.t.sf(abs(t),df=df_total)*2\n",
    "print('PValue:',pval)\n",
    "\n",
    "#stats.ttest_ind(sample1,sample2)#ind-independent\n",
    "stats.ttest_ind(harry_num,ron_num)\n",
    "\n",
    "#pval=0.009\n",
    "#sig lvl=0.1\n",
    "#pval<sig lvl=>H0 is Rejected,Ha is Selected which means Avg time taken by Harry and Ronare not Same\n",
    "\n",
    "#since t-Test is -ve=>Harry takes less time to deliver the newspapers than his colleague Ron"
   ]
  },
  {
   "cell_type": "markdown",
   "metadata": {},
   "source": [
    "###### INFERENCE:-\n",
    "    Harry takes less time to deliver the newspapers than his colleague Ron"
   ]
  },
  {
   "cell_type": "markdown",
   "metadata": {
    "colab_type": "text",
    "id": "XID79y2_f99O"
   },
   "source": [
    "<table align=\"left\">\n",
    "    <tr>\n",
    "        <td width=\"6%\">\n",
    "            <img src=\"question_icon.png\">\n",
    "        </td>\n",
    "        <td>\n",
    "            <div align=\"left\", style=\"font-size:120%\">\n",
    "                <font color=\"#21618C\">\n",
    "                        <b>7. The pharmaceutical company had organized a program to introduce its new drug to lower the sugar level. They recorded the fasting sugar (in mg/dl) of 25 diabetic people. Those people undergo a medication of the new drug for 10 days and again took a fasting sugar level test. The company claim that the sugar level decreases due to its new drug. Test the claim using p-value technique with 95% confidence.</b>\n",
    "                </font>\n",
    "            </div>\n",
    "        </td>\n",
    "    </tr>\n",
    "</table>"
   ]
  },
  {
   "cell_type": "markdown",
   "metadata": {},
   "source": [
    "Use the data given in the file `sugar_level.xlsx`"
   ]
  },
  {
   "cell_type": "code",
   "execution_count": 53,
   "metadata": {},
   "outputs": [
    {
     "data": {
      "text/html": [
       "<div>\n",
       "<style scoped>\n",
       "    .dataframe tbody tr th:only-of-type {\n",
       "        vertical-align: middle;\n",
       "    }\n",
       "\n",
       "    .dataframe tbody tr th {\n",
       "        vertical-align: top;\n",
       "    }\n",
       "\n",
       "    .dataframe thead th {\n",
       "        text-align: right;\n",
       "    }\n",
       "</style>\n",
       "<table border=\"1\" class=\"dataframe\">\n",
       "  <thead>\n",
       "    <tr style=\"text-align: right;\">\n",
       "      <th></th>\n",
       "      <th>sugar_before</th>\n",
       "      <th>sugar_after</th>\n",
       "    </tr>\n",
       "  </thead>\n",
       "  <tbody>\n",
       "    <tr>\n",
       "      <td>0</td>\n",
       "      <td>135</td>\n",
       "      <td>132</td>\n",
       "    </tr>\n",
       "    <tr>\n",
       "      <td>1</td>\n",
       "      <td>132</td>\n",
       "      <td>136</td>\n",
       "    </tr>\n",
       "    <tr>\n",
       "      <td>2</td>\n",
       "      <td>142</td>\n",
       "      <td>139</td>\n",
       "    </tr>\n",
       "    <tr>\n",
       "      <td>3</td>\n",
       "      <td>154</td>\n",
       "      <td>151</td>\n",
       "    </tr>\n",
       "    <tr>\n",
       "      <td>4</td>\n",
       "      <td>198</td>\n",
       "      <td>192</td>\n",
       "    </tr>\n",
       "  </tbody>\n",
       "</table>\n",
       "</div>"
      ],
      "text/plain": [
       "   sugar_before  sugar_after\n",
       "0           135          132\n",
       "1           132          136\n",
       "2           142          139\n",
       "3           154          151\n",
       "4           198          192"
      ]
     },
     "execution_count": 53,
     "metadata": {},
     "output_type": "execute_result"
    }
   ],
   "source": [
    "# type your code here\n",
    "df=pd.read_excel('sugar_level.xlsx')\n",
    "df.head()"
   ]
  },
  {
   "cell_type": "code",
   "execution_count": 54,
   "metadata": {},
   "outputs": [
    {
     "data": {
      "text/plain": [
       "(0.9284526109695435, 0.08004998415708542)"
      ]
     },
     "execution_count": 54,
     "metadata": {},
     "output_type": "execute_result"
    }
   ],
   "source": [
    "#CHECKING THE NORMALITY USING SHAPIRO TEST\n",
    "stats.shapiro(df['sugar_before'])"
   ]
  },
  {
   "cell_type": "code",
   "execution_count": 55,
   "metadata": {},
   "outputs": [
    {
     "data": {
      "text/plain": [
       "(0.922091543674469, 0.057184845209121704)"
      ]
     },
     "execution_count": 55,
     "metadata": {},
     "output_type": "execute_result"
    }
   ],
   "source": [
    "stats.shapiro(df['sugar_after'])"
   ]
  },
  {
   "cell_type": "code",
   "execution_count": null,
   "metadata": {},
   "outputs": [],
   "source": [
    "#both p1 and p2 are >sig lvl\n",
    "#data is normal\n",
    "#sample standard deivation is known and for two samples we need to find  the comparison which are paired so we go with Two sample t-Test"
   ]
  },
  {
   "cell_type": "code",
   "execution_count": 56,
   "metadata": {},
   "outputs": [
    {
     "data": {
      "text/plain": [
       "Ttest_1sampResult(statistic=5.268469999584946, pvalue=2.108941394582287e-05)"
      ]
     },
     "execution_count": 56,
     "metadata": {},
     "output_type": "execute_result"
    }
   ],
   "source": [
    "#Step1:-Hypothesis\n",
    "#H0: mu1=(sugar level before taking new drug)=(sugar level after taking newdrug) are Same\n",
    "#Ha: mu1!=(sugar level before taking new drug)=(sugar level after taking new drug) are not Same\n",
    "\n",
    "#H0: mu1-mu2(mu_d)=0\n",
    "#Ha: mu1-mu2(mu_d)!=0\n",
    "diff=df['sugar_before']-df['sugar_after']\n",
    "stats.ttest_1samp(diff,popmean=0)"
   ]
  },
  {
   "cell_type": "code",
   "execution_count": 57,
   "metadata": {},
   "outputs": [
    {
     "data": {
      "text/plain": [
       "Ttest_relResult(statistic=5.268469999584946, pvalue=2.108941394582287e-05)"
      ]
     },
     "execution_count": 57,
     "metadata": {},
     "output_type": "execute_result"
    }
   ],
   "source": [
    "stats.ttest_rel(df['sugar_before'],df['sugar_after'])"
   ]
  },
  {
   "cell_type": "raw",
   "metadata": {},
   "source": [
    "#pval=0\n",
    "#sig lvl=0.05\n",
    "#pval<sig lvl.H0 is Rejected Ha is Selected \n",
    "which means mu1!=(sugar level before taking new drug)=(sugar level after taking new drug) are not Same\n",
    "#t-test statistics is +ve hence new drug have no effect on reducing the sugar leval in patients.\n"
   ]
  },
  {
   "cell_type": "markdown",
   "metadata": {},
   "source": [
    "###### INFERENCE:-\n",
    "    New drug have no effect on Lowering the sugar level in diabetic patients."
   ]
  },
  {
   "cell_type": "markdown",
   "metadata": {
    "colab_type": "text",
    "id": "OL9cj_rRf983"
   },
   "source": [
    "<a id= \"prop\"></a>\n",
    "## 3. Z Proportion Test"
   ]
  },
  {
   "cell_type": "markdown",
   "metadata": {
    "colab_type": "text",
    "id": "XID79y2_f99O"
   },
   "source": [
    "<table align=\"left\">\n",
    "    <tr>\n",
    "        <td width=\"6%\">\n",
    "            <img src=\"question_icon.png\">\n",
    "        </td>\n",
    "        <td>\n",
    "            <div align=\"left\", style=\"font-size:120%\">\n",
    "                <font color=\"#21618C\">\n",
    "                    <b>8. The physics department claims that it received 14% of fraud applications this year. The university head wants to test whether the percentage is different than what the department claims. The sample of 250 applications is selected out of which 38 applications are found to fraud. Test the claim with a 95% confidence.</b>\n",
    "                </font>\n",
    "            </div>\n",
    "        </td>\n",
    "    </tr>\n",
    "</table>"
   ]
  },
  {
   "cell_type": "code",
   "execution_count": 58,
   "metadata": {},
   "outputs": [
    {
     "data": {
      "text/plain": [
       "0.5468119624323661"
      ]
     },
     "execution_count": 58,
     "metadata": {},
     "output_type": "execute_result"
    }
   ],
   "source": [
    "# type your code here\n",
    "#Step1:-Hypothesis Formation:-\n",
    "#H0:-p_pop(proportion of fraud applications more than 38)=0.14\n",
    "#Ha:-p_pop(proportion of fraud applications more than 38)!=0.14\n",
    "\n",
    "p_pop=0.14\n",
    "n=250\n",
    "p_sam=38/250\n",
    "num=p_sam-p_pop\n",
    "denom=np.sqrt((p_pop*(1-p_pop))/n)\n",
    "z=num/denom\n",
    "z"
   ]
  },
  {
   "cell_type": "code",
   "execution_count": 59,
   "metadata": {},
   "outputs": [
    {
     "data": {
      "text/plain": [
       "0.5845079238217354"
      ]
     },
     "execution_count": 59,
     "metadata": {},
     "output_type": "execute_result"
    }
   ],
   "source": [
    "pval=stats.norm.sf(abs(z))*2\n",
    "pval"
   ]
  },
  {
   "cell_type": "code",
   "execution_count": null,
   "metadata": {},
   "outputs": [],
   "source": [
    "#pval=0.584\n",
    "#sig lvl=0.05\n",
    "#pval>sign level\n",
    "#H0 is Selected,Ha is Rejected which means p_pop(proportion of fraud applications more than 38)=0.14."
   ]
  },
  {
   "cell_type": "markdown",
   "metadata": {},
   "source": [
    "###### INFERENCE:-\n",
    "    The proportion of fraud applications in physics department is more than 14%"
   ]
  },
  {
   "cell_type": "markdown",
   "metadata": {
    "colab_type": "text",
    "id": "9qnEEhR4f98X"
   },
   "source": [
    "<table align=\"left\">\n",
    "    <tr>\n",
    "        <td width=\"6%\">\n",
    "            <img src=\"question_icon.png\">\n",
    "        </td>\n",
    "        <td>\n",
    "            <div align=\"left\", style=\"font-size:120%\">\n",
    "                <font color=\"#21618C\">\n",
    "                    <b>9. The store manager claims that he received more 20% of defective plastic boxes in his previous order. Test the manager's claim. From a sample of 120 boxes, 42 were found to be defective. Test the claim with 90% confidence.</b>\n",
    "                </font>\n",
    "            </div>\n",
    "        </td>\n",
    "    </tr>\n",
    "</table>"
   ]
  },
  {
   "cell_type": "code",
   "execution_count": 60,
   "metadata": {},
   "outputs": [
    {
     "data": {
      "text/plain": [
       "4.107919181288744"
      ]
     },
     "execution_count": 60,
     "metadata": {},
     "output_type": "execute_result"
    }
   ],
   "source": [
    "# type your code here\n",
    "# type your code here\n",
    "#Step1:-Hypothesis Formation:-\n",
    "#H0:-p_pop(proportion of defective plastic boxes more than 42)=0.2\n",
    "#Ha:-p_pop(proportion of defective plastic boxes more than 42)!=0.2\n",
    "\n",
    "p_pop=0.2\n",
    "n=120\n",
    "p_sam=42/120\n",
    "num=p_sam-p_pop\n",
    "denom=np.sqrt((p_pop*(1-p_pop))/n)\n",
    "z=num/denom\n",
    "z\n",
    "\n"
   ]
  },
  {
   "cell_type": "code",
   "execution_count": 61,
   "metadata": {},
   "outputs": [
    {
     "data": {
      "text/plain": [
       "3.992397476901362e-05"
      ]
     },
     "execution_count": 61,
     "metadata": {},
     "output_type": "execute_result"
    }
   ],
   "source": [
    "pval=stats.norm.sf(abs(z))*2\n",
    "pval"
   ]
  },
  {
   "cell_type": "code",
   "execution_count": null,
   "metadata": {},
   "outputs": [],
   "source": [
    "#pval=3.992397476901362e-05\n",
    "#sig lvl=0.1\n",
    "#pval<sign level\n",
    "#H0 is Rejected,Ha is Selected which means p_pop(proportion of defective plastic boxes more than 42)!=0.2.\n",
    "\n",
    "#since z-statistics is +ve=>proportion of defective plastic boxes is less than 42 with mean of 20%,\n",
    "#hence The store manager claim is not correct"
   ]
  },
  {
   "cell_type": "markdown",
   "metadata": {},
   "source": [
    "###### INFERENCE:-\n",
    "    The proportion of defective plastic boxes is less than 42 with mean of 20%"
   ]
  },
  {
   "cell_type": "markdown",
   "metadata": {
    "colab_type": "text",
    "id": "6YXVLVi9f98b"
   },
   "source": [
    "<table align=\"left\">\n",
    "    <tr>\n",
    "        <td width=\"6%\">\n",
    "            <img src=\"question_icon.png\">\n",
    "        </td>\n",
    "        <td>\n",
    "            <div align=\"left\", style=\"font-size:120%\">\n",
    "                <font color=\"#21618C\">\n",
    "                        <b>10. The HR head of a company claims that the company supports the woman empowerment and the proportion of female employees is same in the New York and Oneonta branches. The women empowerment cell wants to check whether the proportion is different for the two branches. The sample of 150 employees is selected from New York branch out of which 53 are females and a sample of 170 employees is selected from Oneonta branch out of which 76 are females. Use the p-value technique with 95% confidence. </b>\n",
    "                </font>\n",
    "            </div>\n",
    "        </td>\n",
    "    </tr>\n",
    "</table>"
   ]
  },
  {
   "cell_type": "code",
   "execution_count": 62,
   "metadata": {},
   "outputs": [
    {
     "data": {
      "text/plain": [
       "(-1.705655272664087, 0.08807228185564836)"
      ]
     },
     "execution_count": 62,
     "metadata": {},
     "output_type": "execute_result"
    }
   ],
   "source": [
    "# type your code here\n",
    "#Step1:-Hypothesis Formation\n",
    "#H0:P_Pop1(Proportion of female employees in New York branch)=P_Pop2(Proportion of female employees in Oneonta branch)are same\n",
    "#Ha:P_Pop1(Proportion of female employees in New York branch)!=P_Pop2(Proportion of female employees in Oneonta branch)arenotsame\n",
    "\n",
    "#H0:P_Pop1=P_Pop2\n",
    "#Ha:P_Pop1!=P_Pop2\n",
    "\n",
    "import statsmodels.api as sm \n",
    "sm.stats.proportions_ztest(count=(53,76),nobs=(150,170))"
   ]
  },
  {
   "cell_type": "code",
   "execution_count": null,
   "metadata": {},
   "outputs": [],
   "source": [
    "#pval=0.08\n",
    "#sig lvl=0.05\n",
    "#pval>significancee level=>Hence H0 is Selected,Ha is Rejected Which Means that\n",
    "#Proportion of female employees in New York branch and Proportion of female employees in Oneonta branch)are same"
   ]
  },
  {
   "cell_type": "markdown",
   "metadata": {},
   "source": [
    "###### INFERENCE:-\n",
    "    HENCE THE COMPANY CLAIM OF SUPPORTING WOMEN EMPOWERMENT is Correct."
   ]
  },
  {
   "cell_type": "markdown",
   "metadata": {
    "colab_type": "text",
    "id": "3uPwVwgAf99s"
   },
   "source": [
    "<table align=\"left\">\n",
    "    <tr>\n",
    "        <td width=\"6%\">\n",
    "            <img src=\"question_icon.png\">\n",
    "        </td>\n",
    "        <td>\n",
    "            <div align=\"left\", style=\"font-size:120%\">\n",
    "                <font color=\"#21618C\">\n",
    "                    <b>11. The education department claims that the proportion of students failed in Mathematics is more than the proportion of students failed in English. To test the claim a sample of 200 students enrolled for Mathematics was considered out of which 73 students failed in the exam and a sample of 150 students enrolled for English was considered out of which 53 students failed in the exam. Test the department's claim with 90% confidence. </b>\n",
    "                </font>\n",
    "            </div>\n",
    "        </td>\n",
    "    </tr>\n",
    "</table>"
   ]
  },
  {
   "cell_type": "code",
   "execution_count": 63,
   "metadata": {},
   "outputs": [
    {
     "data": {
      "text/plain": [
       "(0.22502571869471721, 0.8219592666785291)"
      ]
     },
     "execution_count": 63,
     "metadata": {},
     "output_type": "execute_result"
    }
   ],
   "source": [
    "# type your code here\n",
    "#Step1:-Hypothesis Formation\n",
    "#H0:P_Pop1(Proportion of students failed in Mathematics)=P_Pop2(Proportion of  students failed in English)are same\n",
    "#Ha:P_Pop1(Proportion of students failed in Mathematics)!=P_Pop2(Proportion of students failed in English)arenotsame\n",
    "\n",
    "#H0:P_Pop1=P_Pop2\n",
    "#Ha:P_Pop1!=P_Pop2\n",
    "\n",
    "import statsmodels.api as sm \n",
    "sm.stats.proportions_ztest(count=(73,53),nobs=(200,150))"
   ]
  },
  {
   "cell_type": "code",
   "execution_count": null,
   "metadata": {},
   "outputs": [],
   "source": [
    "#pval=0.821\n",
    "#sig lvl=0.1\n",
    "#pval>significance level=>H0 is Selected,Ha is Rejected which means that \n",
    "#Proportion of students failed in Mathematics is Proportion of  students failed in English are same"
   ]
  },
  {
   "cell_type": "markdown",
   "metadata": {},
   "source": [
    "###### INFERENCE:-\n",
    "    The education department claim of proportion of students failed in Maths is more than the proportion of students failed in English is found to be invalid."
   ]
  }
 ],
 "metadata": {
  "colab": {
   "name": "ITP - In-Class Lab Exercise (Day1) - Solutions [V1.0 030120].ipynb",
   "provenance": []
  },
  "kernelspec": {
   "display_name": "Python 3",
   "language": "python",
   "name": "python3"
  },
  "language_info": {
   "codemirror_mode": {
    "name": "ipython",
    "version": 3
   },
   "file_extension": ".py",
   "mimetype": "text/x-python",
   "name": "python",
   "nbconvert_exporter": "python",
   "pygments_lexer": "ipython3",
   "version": "3.7.4"
  }
 },
 "nbformat": 4,
 "nbformat_minor": 1
}
